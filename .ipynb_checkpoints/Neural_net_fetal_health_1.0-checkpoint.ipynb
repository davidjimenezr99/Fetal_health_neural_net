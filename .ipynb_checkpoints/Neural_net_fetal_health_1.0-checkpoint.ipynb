{
 "cells": [
  {
   "cell_type": "markdown",
   "id": "7afdd36e-ae99-482f-a540-bd79c1cf5f2a",
   "metadata": {},
   "source": [
    "### Importación de Librerías"
   ]
  },
  {
   "cell_type": "code",
   "execution_count": 58,
   "id": "c6a0a1d8-4bd9-47de-8804-ccc204cc3403",
   "metadata": {},
   "outputs": [],
   "source": [
    "import pandas as pd\n",
    "import numpy as np\n",
    "import random\n",
    "import tensorflow as tf\n",
    "from tensorflow.keras.models import Sequential\n",
    "from tensorflow.keras.layers import Dense, Dropout, BatchNormalization\n",
    "from sklearn.model_selection import train_test_split\n",
    "from sklearn.metrics import confusion_matrix\n",
    "from sklearn.preprocessing import MinMaxScaler\n",
    "from sklearn.utils import class_weight"
   ]
  },
  {
   "cell_type": "markdown",
   "id": "4b8296d2-fb3b-47c6-b945-b052871121ff",
   "metadata": {},
   "source": [
    "### Carga de datos"
   ]
  },
  {
   "cell_type": "code",
   "execution_count": 59,
   "id": "485e0f84-4099-47d6-baf9-dbbb664615c7",
   "metadata": {},
   "outputs": [],
   "source": [
    "train = pd.read_csv('fetal_health.csv')"
   ]
  },
  {
   "cell_type": "markdown",
   "id": "33dbb56c-26e0-42f4-9ac0-710893cc20ce",
   "metadata": {},
   "source": [
    "### Inspección inicial de datos  \n",
    "Variable dependiente = fetal_health  \n",
    "Posibles valores:  \n",
    "* 1 : Normal\n",
    "* 2 : Suspect\n",
    "* 3 : Pathological"
   ]
  },
  {
   "cell_type": "code",
   "execution_count": 60,
   "id": "d972d206-5ce4-4092-89cf-b8f1f2d98c4a",
   "metadata": {},
   "outputs": [
    {
     "name": "stdout",
     "output_type": "stream",
     "text": [
      "<class 'pandas.core.frame.DataFrame'>\n",
      "RangeIndex: 2126 entries, 0 to 2125\n",
      "Data columns (total 22 columns):\n",
      " #   Column                                                  Non-Null Count  Dtype  \n",
      "---  ------                                                  --------------  -----  \n",
      " 0   baseline value                                          2126 non-null   float64\n",
      " 1   accelerations                                           2126 non-null   float64\n",
      " 2   fetal_movement                                          2126 non-null   float64\n",
      " 3   uterine_contractions                                    2126 non-null   float64\n",
      " 4   light_decelerations                                     2126 non-null   float64\n",
      " 5   severe_decelerations                                    2126 non-null   float64\n",
      " 6   prolongued_decelerations                                2126 non-null   float64\n",
      " 7   abnormal_short_term_variability                         2126 non-null   float64\n",
      " 8   mean_value_of_short_term_variability                    2126 non-null   float64\n",
      " 9   percentage_of_time_with_abnormal_long_term_variability  2126 non-null   float64\n",
      " 10  mean_value_of_long_term_variability                     2126 non-null   float64\n",
      " 11  histogram_width                                         2126 non-null   float64\n",
      " 12  histogram_min                                           2126 non-null   float64\n",
      " 13  histogram_max                                           2126 non-null   float64\n",
      " 14  histogram_number_of_peaks                               2126 non-null   float64\n",
      " 15  histogram_number_of_zeroes                              2126 non-null   float64\n",
      " 16  histogram_mode                                          2126 non-null   float64\n",
      " 17  histogram_mean                                          2126 non-null   float64\n",
      " 18  histogram_median                                        2126 non-null   float64\n",
      " 19  histogram_variance                                      2126 non-null   float64\n",
      " 20  histogram_tendency                                      2126 non-null   float64\n",
      " 21  fetal_health                                            2126 non-null   float64\n",
      "dtypes: float64(22)\n",
      "memory usage: 365.5 KB\n",
      "None\n",
      "(2126, 22)\n"
     ]
    },
    {
     "data": {
      "text/html": [
       "<div>\n",
       "<style scoped>\n",
       "    .dataframe tbody tr th:only-of-type {\n",
       "        vertical-align: middle;\n",
       "    }\n",
       "\n",
       "    .dataframe tbody tr th {\n",
       "        vertical-align: top;\n",
       "    }\n",
       "\n",
       "    .dataframe thead th {\n",
       "        text-align: right;\n",
       "    }\n",
       "</style>\n",
       "<table border=\"1\" class=\"dataframe\">\n",
       "  <thead>\n",
       "    <tr style=\"text-align: right;\">\n",
       "      <th></th>\n",
       "      <th>baseline value</th>\n",
       "      <th>accelerations</th>\n",
       "      <th>fetal_movement</th>\n",
       "      <th>uterine_contractions</th>\n",
       "      <th>light_decelerations</th>\n",
       "      <th>severe_decelerations</th>\n",
       "      <th>prolongued_decelerations</th>\n",
       "      <th>abnormal_short_term_variability</th>\n",
       "      <th>mean_value_of_short_term_variability</th>\n",
       "      <th>percentage_of_time_with_abnormal_long_term_variability</th>\n",
       "      <th>...</th>\n",
       "      <th>histogram_min</th>\n",
       "      <th>histogram_max</th>\n",
       "      <th>histogram_number_of_peaks</th>\n",
       "      <th>histogram_number_of_zeroes</th>\n",
       "      <th>histogram_mode</th>\n",
       "      <th>histogram_mean</th>\n",
       "      <th>histogram_median</th>\n",
       "      <th>histogram_variance</th>\n",
       "      <th>histogram_tendency</th>\n",
       "      <th>fetal_health</th>\n",
       "    </tr>\n",
       "  </thead>\n",
       "  <tbody>\n",
       "    <tr>\n",
       "      <th>0</th>\n",
       "      <td>120.0</td>\n",
       "      <td>0.000</td>\n",
       "      <td>0.0</td>\n",
       "      <td>0.000</td>\n",
       "      <td>0.000</td>\n",
       "      <td>0.0</td>\n",
       "      <td>0.0</td>\n",
       "      <td>73.0</td>\n",
       "      <td>0.5</td>\n",
       "      <td>43.0</td>\n",
       "      <td>...</td>\n",
       "      <td>62.0</td>\n",
       "      <td>126.0</td>\n",
       "      <td>2.0</td>\n",
       "      <td>0.0</td>\n",
       "      <td>120.0</td>\n",
       "      <td>137.0</td>\n",
       "      <td>121.0</td>\n",
       "      <td>73.0</td>\n",
       "      <td>1.0</td>\n",
       "      <td>2.0</td>\n",
       "    </tr>\n",
       "    <tr>\n",
       "      <th>1</th>\n",
       "      <td>132.0</td>\n",
       "      <td>0.006</td>\n",
       "      <td>0.0</td>\n",
       "      <td>0.006</td>\n",
       "      <td>0.003</td>\n",
       "      <td>0.0</td>\n",
       "      <td>0.0</td>\n",
       "      <td>17.0</td>\n",
       "      <td>2.1</td>\n",
       "      <td>0.0</td>\n",
       "      <td>...</td>\n",
       "      <td>68.0</td>\n",
       "      <td>198.0</td>\n",
       "      <td>6.0</td>\n",
       "      <td>1.0</td>\n",
       "      <td>141.0</td>\n",
       "      <td>136.0</td>\n",
       "      <td>140.0</td>\n",
       "      <td>12.0</td>\n",
       "      <td>0.0</td>\n",
       "      <td>1.0</td>\n",
       "    </tr>\n",
       "    <tr>\n",
       "      <th>2</th>\n",
       "      <td>133.0</td>\n",
       "      <td>0.003</td>\n",
       "      <td>0.0</td>\n",
       "      <td>0.008</td>\n",
       "      <td>0.003</td>\n",
       "      <td>0.0</td>\n",
       "      <td>0.0</td>\n",
       "      <td>16.0</td>\n",
       "      <td>2.1</td>\n",
       "      <td>0.0</td>\n",
       "      <td>...</td>\n",
       "      <td>68.0</td>\n",
       "      <td>198.0</td>\n",
       "      <td>5.0</td>\n",
       "      <td>1.0</td>\n",
       "      <td>141.0</td>\n",
       "      <td>135.0</td>\n",
       "      <td>138.0</td>\n",
       "      <td>13.0</td>\n",
       "      <td>0.0</td>\n",
       "      <td>1.0</td>\n",
       "    </tr>\n",
       "    <tr>\n",
       "      <th>3</th>\n",
       "      <td>134.0</td>\n",
       "      <td>0.003</td>\n",
       "      <td>0.0</td>\n",
       "      <td>0.008</td>\n",
       "      <td>0.003</td>\n",
       "      <td>0.0</td>\n",
       "      <td>0.0</td>\n",
       "      <td>16.0</td>\n",
       "      <td>2.4</td>\n",
       "      <td>0.0</td>\n",
       "      <td>...</td>\n",
       "      <td>53.0</td>\n",
       "      <td>170.0</td>\n",
       "      <td>11.0</td>\n",
       "      <td>0.0</td>\n",
       "      <td>137.0</td>\n",
       "      <td>134.0</td>\n",
       "      <td>137.0</td>\n",
       "      <td>13.0</td>\n",
       "      <td>1.0</td>\n",
       "      <td>1.0</td>\n",
       "    </tr>\n",
       "    <tr>\n",
       "      <th>4</th>\n",
       "      <td>132.0</td>\n",
       "      <td>0.007</td>\n",
       "      <td>0.0</td>\n",
       "      <td>0.008</td>\n",
       "      <td>0.000</td>\n",
       "      <td>0.0</td>\n",
       "      <td>0.0</td>\n",
       "      <td>16.0</td>\n",
       "      <td>2.4</td>\n",
       "      <td>0.0</td>\n",
       "      <td>...</td>\n",
       "      <td>53.0</td>\n",
       "      <td>170.0</td>\n",
       "      <td>9.0</td>\n",
       "      <td>0.0</td>\n",
       "      <td>137.0</td>\n",
       "      <td>136.0</td>\n",
       "      <td>138.0</td>\n",
       "      <td>11.0</td>\n",
       "      <td>1.0</td>\n",
       "      <td>1.0</td>\n",
       "    </tr>\n",
       "  </tbody>\n",
       "</table>\n",
       "<p>5 rows × 22 columns</p>\n",
       "</div>"
      ],
      "text/plain": [
       "   baseline value  accelerations  fetal_movement  uterine_contractions  \\\n",
       "0           120.0          0.000             0.0                 0.000   \n",
       "1           132.0          0.006             0.0                 0.006   \n",
       "2           133.0          0.003             0.0                 0.008   \n",
       "3           134.0          0.003             0.0                 0.008   \n",
       "4           132.0          0.007             0.0                 0.008   \n",
       "\n",
       "   light_decelerations  severe_decelerations  prolongued_decelerations  \\\n",
       "0                0.000                   0.0                       0.0   \n",
       "1                0.003                   0.0                       0.0   \n",
       "2                0.003                   0.0                       0.0   \n",
       "3                0.003                   0.0                       0.0   \n",
       "4                0.000                   0.0                       0.0   \n",
       "\n",
       "   abnormal_short_term_variability  mean_value_of_short_term_variability  \\\n",
       "0                             73.0                                   0.5   \n",
       "1                             17.0                                   2.1   \n",
       "2                             16.0                                   2.1   \n",
       "3                             16.0                                   2.4   \n",
       "4                             16.0                                   2.4   \n",
       "\n",
       "   percentage_of_time_with_abnormal_long_term_variability  ...  histogram_min  \\\n",
       "0                                               43.0       ...           62.0   \n",
       "1                                                0.0       ...           68.0   \n",
       "2                                                0.0       ...           68.0   \n",
       "3                                                0.0       ...           53.0   \n",
       "4                                                0.0       ...           53.0   \n",
       "\n",
       "   histogram_max  histogram_number_of_peaks  histogram_number_of_zeroes  \\\n",
       "0          126.0                        2.0                         0.0   \n",
       "1          198.0                        6.0                         1.0   \n",
       "2          198.0                        5.0                         1.0   \n",
       "3          170.0                       11.0                         0.0   \n",
       "4          170.0                        9.0                         0.0   \n",
       "\n",
       "   histogram_mode  histogram_mean  histogram_median  histogram_variance  \\\n",
       "0           120.0           137.0             121.0                73.0   \n",
       "1           141.0           136.0             140.0                12.0   \n",
       "2           141.0           135.0             138.0                13.0   \n",
       "3           137.0           134.0             137.0                13.0   \n",
       "4           137.0           136.0             138.0                11.0   \n",
       "\n",
       "   histogram_tendency  fetal_health  \n",
       "0                 1.0           2.0  \n",
       "1                 0.0           1.0  \n",
       "2                 0.0           1.0  \n",
       "3                 1.0           1.0  \n",
       "4                 1.0           1.0  \n",
       "\n",
       "[5 rows x 22 columns]"
      ]
     },
     "execution_count": 60,
     "metadata": {},
     "output_type": "execute_result"
    }
   ],
   "source": [
    "print(train.info())\n",
    "print(train.shape)\n",
    "train.head()"
   ]
  },
  {
   "cell_type": "code",
   "execution_count": 61,
   "id": "3632c08b-c69e-4d1c-9f11-346b61e1e0d3",
   "metadata": {},
   "outputs": [
    {
     "data": {
      "text/html": [
       "<div>\n",
       "<style scoped>\n",
       "    .dataframe tbody tr th:only-of-type {\n",
       "        vertical-align: middle;\n",
       "    }\n",
       "\n",
       "    .dataframe tbody tr th {\n",
       "        vertical-align: top;\n",
       "    }\n",
       "\n",
       "    .dataframe thead th {\n",
       "        text-align: right;\n",
       "    }\n",
       "</style>\n",
       "<table border=\"1\" class=\"dataframe\">\n",
       "  <thead>\n",
       "    <tr style=\"text-align: right;\">\n",
       "      <th></th>\n",
       "      <th>baseline value</th>\n",
       "      <th>accelerations</th>\n",
       "      <th>fetal_movement</th>\n",
       "      <th>uterine_contractions</th>\n",
       "      <th>light_decelerations</th>\n",
       "      <th>severe_decelerations</th>\n",
       "      <th>prolongued_decelerations</th>\n",
       "      <th>abnormal_short_term_variability</th>\n",
       "      <th>mean_value_of_short_term_variability</th>\n",
       "      <th>percentage_of_time_with_abnormal_long_term_variability</th>\n",
       "      <th>...</th>\n",
       "      <th>histogram_min</th>\n",
       "      <th>histogram_max</th>\n",
       "      <th>histogram_number_of_peaks</th>\n",
       "      <th>histogram_number_of_zeroes</th>\n",
       "      <th>histogram_mode</th>\n",
       "      <th>histogram_mean</th>\n",
       "      <th>histogram_median</th>\n",
       "      <th>histogram_variance</th>\n",
       "      <th>histogram_tendency</th>\n",
       "      <th>fetal_health</th>\n",
       "    </tr>\n",
       "  </thead>\n",
       "  <tbody>\n",
       "    <tr>\n",
       "      <th>count</th>\n",
       "      <td>2126.000000</td>\n",
       "      <td>2126.000000</td>\n",
       "      <td>2126.000000</td>\n",
       "      <td>2126.000000</td>\n",
       "      <td>2126.000000</td>\n",
       "      <td>2126.000000</td>\n",
       "      <td>2126.000000</td>\n",
       "      <td>2126.000000</td>\n",
       "      <td>2126.000000</td>\n",
       "      <td>2126.00000</td>\n",
       "      <td>...</td>\n",
       "      <td>2126.000000</td>\n",
       "      <td>2126.000000</td>\n",
       "      <td>2126.000000</td>\n",
       "      <td>2126.000000</td>\n",
       "      <td>2126.000000</td>\n",
       "      <td>2126.000000</td>\n",
       "      <td>2126.000000</td>\n",
       "      <td>2126.000000</td>\n",
       "      <td>2126.000000</td>\n",
       "      <td>2126.000000</td>\n",
       "    </tr>\n",
       "    <tr>\n",
       "      <th>mean</th>\n",
       "      <td>133.303857</td>\n",
       "      <td>0.003178</td>\n",
       "      <td>0.009481</td>\n",
       "      <td>0.004366</td>\n",
       "      <td>0.001889</td>\n",
       "      <td>0.000003</td>\n",
       "      <td>0.000159</td>\n",
       "      <td>46.990122</td>\n",
       "      <td>1.332785</td>\n",
       "      <td>9.84666</td>\n",
       "      <td>...</td>\n",
       "      <td>93.579492</td>\n",
       "      <td>164.025400</td>\n",
       "      <td>4.068203</td>\n",
       "      <td>0.323612</td>\n",
       "      <td>137.452023</td>\n",
       "      <td>134.610536</td>\n",
       "      <td>138.090310</td>\n",
       "      <td>18.808090</td>\n",
       "      <td>0.320320</td>\n",
       "      <td>1.304327</td>\n",
       "    </tr>\n",
       "    <tr>\n",
       "      <th>std</th>\n",
       "      <td>9.840844</td>\n",
       "      <td>0.003866</td>\n",
       "      <td>0.046666</td>\n",
       "      <td>0.002946</td>\n",
       "      <td>0.002960</td>\n",
       "      <td>0.000057</td>\n",
       "      <td>0.000590</td>\n",
       "      <td>17.192814</td>\n",
       "      <td>0.883241</td>\n",
       "      <td>18.39688</td>\n",
       "      <td>...</td>\n",
       "      <td>29.560212</td>\n",
       "      <td>17.944183</td>\n",
       "      <td>2.949386</td>\n",
       "      <td>0.706059</td>\n",
       "      <td>16.381289</td>\n",
       "      <td>15.593596</td>\n",
       "      <td>14.466589</td>\n",
       "      <td>28.977636</td>\n",
       "      <td>0.610829</td>\n",
       "      <td>0.614377</td>\n",
       "    </tr>\n",
       "    <tr>\n",
       "      <th>min</th>\n",
       "      <td>106.000000</td>\n",
       "      <td>0.000000</td>\n",
       "      <td>0.000000</td>\n",
       "      <td>0.000000</td>\n",
       "      <td>0.000000</td>\n",
       "      <td>0.000000</td>\n",
       "      <td>0.000000</td>\n",
       "      <td>12.000000</td>\n",
       "      <td>0.200000</td>\n",
       "      <td>0.00000</td>\n",
       "      <td>...</td>\n",
       "      <td>50.000000</td>\n",
       "      <td>122.000000</td>\n",
       "      <td>0.000000</td>\n",
       "      <td>0.000000</td>\n",
       "      <td>60.000000</td>\n",
       "      <td>73.000000</td>\n",
       "      <td>77.000000</td>\n",
       "      <td>0.000000</td>\n",
       "      <td>-1.000000</td>\n",
       "      <td>1.000000</td>\n",
       "    </tr>\n",
       "    <tr>\n",
       "      <th>25%</th>\n",
       "      <td>126.000000</td>\n",
       "      <td>0.000000</td>\n",
       "      <td>0.000000</td>\n",
       "      <td>0.002000</td>\n",
       "      <td>0.000000</td>\n",
       "      <td>0.000000</td>\n",
       "      <td>0.000000</td>\n",
       "      <td>32.000000</td>\n",
       "      <td>0.700000</td>\n",
       "      <td>0.00000</td>\n",
       "      <td>...</td>\n",
       "      <td>67.000000</td>\n",
       "      <td>152.000000</td>\n",
       "      <td>2.000000</td>\n",
       "      <td>0.000000</td>\n",
       "      <td>129.000000</td>\n",
       "      <td>125.000000</td>\n",
       "      <td>129.000000</td>\n",
       "      <td>2.000000</td>\n",
       "      <td>0.000000</td>\n",
       "      <td>1.000000</td>\n",
       "    </tr>\n",
       "    <tr>\n",
       "      <th>50%</th>\n",
       "      <td>133.000000</td>\n",
       "      <td>0.002000</td>\n",
       "      <td>0.000000</td>\n",
       "      <td>0.004000</td>\n",
       "      <td>0.000000</td>\n",
       "      <td>0.000000</td>\n",
       "      <td>0.000000</td>\n",
       "      <td>49.000000</td>\n",
       "      <td>1.200000</td>\n",
       "      <td>0.00000</td>\n",
       "      <td>...</td>\n",
       "      <td>93.000000</td>\n",
       "      <td>162.000000</td>\n",
       "      <td>3.000000</td>\n",
       "      <td>0.000000</td>\n",
       "      <td>139.000000</td>\n",
       "      <td>136.000000</td>\n",
       "      <td>139.000000</td>\n",
       "      <td>7.000000</td>\n",
       "      <td>0.000000</td>\n",
       "      <td>1.000000</td>\n",
       "    </tr>\n",
       "    <tr>\n",
       "      <th>75%</th>\n",
       "      <td>140.000000</td>\n",
       "      <td>0.006000</td>\n",
       "      <td>0.003000</td>\n",
       "      <td>0.007000</td>\n",
       "      <td>0.003000</td>\n",
       "      <td>0.000000</td>\n",
       "      <td>0.000000</td>\n",
       "      <td>61.000000</td>\n",
       "      <td>1.700000</td>\n",
       "      <td>11.00000</td>\n",
       "      <td>...</td>\n",
       "      <td>120.000000</td>\n",
       "      <td>174.000000</td>\n",
       "      <td>6.000000</td>\n",
       "      <td>0.000000</td>\n",
       "      <td>148.000000</td>\n",
       "      <td>145.000000</td>\n",
       "      <td>148.000000</td>\n",
       "      <td>24.000000</td>\n",
       "      <td>1.000000</td>\n",
       "      <td>1.000000</td>\n",
       "    </tr>\n",
       "    <tr>\n",
       "      <th>max</th>\n",
       "      <td>160.000000</td>\n",
       "      <td>0.019000</td>\n",
       "      <td>0.481000</td>\n",
       "      <td>0.015000</td>\n",
       "      <td>0.015000</td>\n",
       "      <td>0.001000</td>\n",
       "      <td>0.005000</td>\n",
       "      <td>87.000000</td>\n",
       "      <td>7.000000</td>\n",
       "      <td>91.00000</td>\n",
       "      <td>...</td>\n",
       "      <td>159.000000</td>\n",
       "      <td>238.000000</td>\n",
       "      <td>18.000000</td>\n",
       "      <td>10.000000</td>\n",
       "      <td>187.000000</td>\n",
       "      <td>182.000000</td>\n",
       "      <td>186.000000</td>\n",
       "      <td>269.000000</td>\n",
       "      <td>1.000000</td>\n",
       "      <td>3.000000</td>\n",
       "    </tr>\n",
       "  </tbody>\n",
       "</table>\n",
       "<p>8 rows × 22 columns</p>\n",
       "</div>"
      ],
      "text/plain": [
       "       baseline value  accelerations  fetal_movement  uterine_contractions  \\\n",
       "count     2126.000000    2126.000000     2126.000000           2126.000000   \n",
       "mean       133.303857       0.003178        0.009481              0.004366   \n",
       "std          9.840844       0.003866        0.046666              0.002946   \n",
       "min        106.000000       0.000000        0.000000              0.000000   \n",
       "25%        126.000000       0.000000        0.000000              0.002000   \n",
       "50%        133.000000       0.002000        0.000000              0.004000   \n",
       "75%        140.000000       0.006000        0.003000              0.007000   \n",
       "max        160.000000       0.019000        0.481000              0.015000   \n",
       "\n",
       "       light_decelerations  severe_decelerations  prolongued_decelerations  \\\n",
       "count          2126.000000           2126.000000               2126.000000   \n",
       "mean              0.001889              0.000003                  0.000159   \n",
       "std               0.002960              0.000057                  0.000590   \n",
       "min               0.000000              0.000000                  0.000000   \n",
       "25%               0.000000              0.000000                  0.000000   \n",
       "50%               0.000000              0.000000                  0.000000   \n",
       "75%               0.003000              0.000000                  0.000000   \n",
       "max               0.015000              0.001000                  0.005000   \n",
       "\n",
       "       abnormal_short_term_variability  mean_value_of_short_term_variability  \\\n",
       "count                      2126.000000                           2126.000000   \n",
       "mean                         46.990122                              1.332785   \n",
       "std                          17.192814                              0.883241   \n",
       "min                          12.000000                              0.200000   \n",
       "25%                          32.000000                              0.700000   \n",
       "50%                          49.000000                              1.200000   \n",
       "75%                          61.000000                              1.700000   \n",
       "max                          87.000000                              7.000000   \n",
       "\n",
       "       percentage_of_time_with_abnormal_long_term_variability  ...  \\\n",
       "count                                         2126.00000       ...   \n",
       "mean                                             9.84666       ...   \n",
       "std                                             18.39688       ...   \n",
       "min                                              0.00000       ...   \n",
       "25%                                              0.00000       ...   \n",
       "50%                                              0.00000       ...   \n",
       "75%                                             11.00000       ...   \n",
       "max                                             91.00000       ...   \n",
       "\n",
       "       histogram_min  histogram_max  histogram_number_of_peaks  \\\n",
       "count    2126.000000    2126.000000                2126.000000   \n",
       "mean       93.579492     164.025400                   4.068203   \n",
       "std        29.560212      17.944183                   2.949386   \n",
       "min        50.000000     122.000000                   0.000000   \n",
       "25%        67.000000     152.000000                   2.000000   \n",
       "50%        93.000000     162.000000                   3.000000   \n",
       "75%       120.000000     174.000000                   6.000000   \n",
       "max       159.000000     238.000000                  18.000000   \n",
       "\n",
       "       histogram_number_of_zeroes  histogram_mode  histogram_mean  \\\n",
       "count                 2126.000000     2126.000000     2126.000000   \n",
       "mean                     0.323612      137.452023      134.610536   \n",
       "std                      0.706059       16.381289       15.593596   \n",
       "min                      0.000000       60.000000       73.000000   \n",
       "25%                      0.000000      129.000000      125.000000   \n",
       "50%                      0.000000      139.000000      136.000000   \n",
       "75%                      0.000000      148.000000      145.000000   \n",
       "max                     10.000000      187.000000      182.000000   \n",
       "\n",
       "       histogram_median  histogram_variance  histogram_tendency  fetal_health  \n",
       "count       2126.000000         2126.000000         2126.000000   2126.000000  \n",
       "mean         138.090310           18.808090            0.320320      1.304327  \n",
       "std           14.466589           28.977636            0.610829      0.614377  \n",
       "min           77.000000            0.000000           -1.000000      1.000000  \n",
       "25%          129.000000            2.000000            0.000000      1.000000  \n",
       "50%          139.000000            7.000000            0.000000      1.000000  \n",
       "75%          148.000000           24.000000            1.000000      1.000000  \n",
       "max          186.000000          269.000000            1.000000      3.000000  \n",
       "\n",
       "[8 rows x 22 columns]"
      ]
     },
     "execution_count": 61,
     "metadata": {},
     "output_type": "execute_result"
    }
   ],
   "source": [
    "train.describe()"
   ]
  },
  {
   "cell_type": "code",
   "execution_count": 62,
   "id": "25f45508-ab8b-4de6-883b-b27de8d594d0",
   "metadata": {},
   "outputs": [
    {
     "data": {
      "text/plain": [
       "baseline value                                            0.148151\n",
       "accelerations                                            -0.364066\n",
       "fetal_movement                                            0.088010\n",
       "uterine_contractions                                     -0.204894\n",
       "light_decelerations                                       0.058870\n",
       "severe_decelerations                                      0.131934\n",
       "prolongued_decelerations                                  0.484859\n",
       "abnormal_short_term_variability                           0.471191\n",
       "mean_value_of_short_term_variability                     -0.103382\n",
       "percentage_of_time_with_abnormal_long_term_variability    0.426146\n",
       "mean_value_of_long_term_variability                      -0.226797\n",
       "histogram_width                                          -0.068789\n",
       "histogram_min                                             0.063175\n",
       "histogram_max                                            -0.045265\n",
       "histogram_number_of_peaks                                -0.023666\n",
       "histogram_number_of_zeroes                               -0.016682\n",
       "histogram_mode                                           -0.250412\n",
       "histogram_mean                                           -0.226985\n",
       "histogram_median                                         -0.205033\n",
       "histogram_variance                                        0.206630\n",
       "histogram_tendency                                       -0.131976\n",
       "fetal_health                                              1.000000\n",
       "Name: fetal_health, dtype: float64"
      ]
     },
     "execution_count": 62,
     "metadata": {},
     "output_type": "execute_result"
    }
   ],
   "source": [
    "train.corr()['fetal_health']"
   ]
  },
  {
   "cell_type": "code",
   "execution_count": 63,
   "id": "bf1c2bd9-eef3-452e-b880-ec35dab5b538",
   "metadata": {},
   "outputs": [
    {
     "data": {
      "text/plain": [
       "fetal_health\n",
       "1.0    1655\n",
       "2.0     295\n",
       "3.0     176\n",
       "Name: count, dtype: int64"
      ]
     },
     "execution_count": 63,
     "metadata": {},
     "output_type": "execute_result"
    }
   ],
   "source": [
    "train['fetal_health'].value_counts()"
   ]
  },
  {
   "cell_type": "markdown",
   "id": "cc35ee85-6066-4391-bd9f-e8db9505b746",
   "metadata": {},
   "source": [
    "### Red neuronal 1.0 (Sin tratamiento)"
   ]
  },
  {
   "cell_type": "code",
   "execution_count": 64,
   "id": "0afa379f-3db3-4359-8e8f-bb9195f7b474",
   "metadata": {},
   "outputs": [],
   "source": [
    "np.random.seed(42)\n",
    "random.seed(42)\n",
    "tf.random.set_seed(42)"
   ]
  },
  {
   "cell_type": "code",
   "execution_count": 65,
   "id": "14e41e8f-d842-4650-b26b-3b2bd3365b92",
   "metadata": {},
   "outputs": [],
   "source": [
    "X = train.drop(['fetal_health'], axis=1)\n",
    "y = train['fetal_health']"
   ]
  },
  {
   "cell_type": "code",
   "execution_count": 66,
   "id": "ae100b13-148d-48a1-8784-bd5258aa7720",
   "metadata": {},
   "outputs": [],
   "source": [
    "X_train, X_test, y_train, y_test = train_test_split(X, y, test_size=0.2, random_state=42)\n",
    "X_train, X_val, y_train, y_val = train_test_split(X_train, y_train, test_size=0.25, random_state=42)"
   ]
  },
  {
   "cell_type": "code",
   "execution_count": 67,
   "id": "12dd9166-3665-44b4-bc23-cb8e8b62cf95",
   "metadata": {},
   "outputs": [],
   "source": [
    "model = Sequential()\n",
    "\n",
    "model.add(Dense(64, input_dim=21, activation='relu'))\n",
    "model.add(Dense(32, activation='relu'))\n",
    "model.add(Dense(3, activation='softmax'))"
   ]
  },
  {
   "cell_type": "code",
   "execution_count": 68,
   "id": "a8ae513f-13f5-46d2-a548-c6d76fa0affc",
   "metadata": {},
   "outputs": [],
   "source": [
    "y_train = y_train - 1\n",
    "y_test = y_test - 1\n",
    "y_val = y_val - 1"
   ]
  },
  {
   "cell_type": "code",
   "execution_count": 69,
   "id": "7a222b0b-928a-492c-94a5-29afb8b30d80",
   "metadata": {},
   "outputs": [
    {
     "name": "stdout",
     "output_type": "stream",
     "text": [
      "Epoch 1/50\n",
      "20/20 [==============================] - 1s 15ms/step - loss: 13.0529 - accuracy: 0.5976 - val_loss: 4.9006 - val_accuracy: 0.5600\n",
      "Epoch 2/50\n",
      "20/20 [==============================] - 0s 4ms/step - loss: 3.1958 - accuracy: 0.5804 - val_loss: 1.1595 - val_accuracy: 0.7812\n",
      "Epoch 3/50\n",
      "20/20 [==============================] - 0s 3ms/step - loss: 1.0057 - accuracy: 0.7757 - val_loss: 0.8649 - val_accuracy: 0.7906\n",
      "Epoch 4/50\n",
      "20/20 [==============================] - 0s 3ms/step - loss: 0.6825 - accuracy: 0.7953 - val_loss: 0.7244 - val_accuracy: 0.6941\n",
      "Epoch 5/50\n",
      "20/20 [==============================] - 0s 3ms/step - loss: 0.6058 - accuracy: 0.8047 - val_loss: 0.5680 - val_accuracy: 0.8306\n",
      "Epoch 6/50\n",
      "20/20 [==============================] - 0s 3ms/step - loss: 0.4956 - accuracy: 0.8384 - val_loss: 0.5224 - val_accuracy: 0.8329\n",
      "Epoch 7/50\n",
      "20/20 [==============================] - 0s 3ms/step - loss: 0.4669 - accuracy: 0.8431 - val_loss: 0.6170 - val_accuracy: 0.8447\n",
      "Epoch 8/50\n",
      "20/20 [==============================] - 0s 3ms/step - loss: 0.5053 - accuracy: 0.8290 - val_loss: 0.5611 - val_accuracy: 0.8447\n",
      "Epoch 9/50\n",
      "20/20 [==============================] - 0s 3ms/step - loss: 0.4745 - accuracy: 0.8361 - val_loss: 0.5157 - val_accuracy: 0.7976\n",
      "Epoch 10/50\n",
      "20/20 [==============================] - 0s 4ms/step - loss: 0.4392 - accuracy: 0.8447 - val_loss: 0.4299 - val_accuracy: 0.8447\n",
      "Epoch 11/50\n",
      "20/20 [==============================] - 0s 3ms/step - loss: 0.4126 - accuracy: 0.8541 - val_loss: 0.4194 - val_accuracy: 0.8518\n",
      "Epoch 12/50\n",
      "20/20 [==============================] - 0s 3ms/step - loss: 0.3987 - accuracy: 0.8471 - val_loss: 0.4442 - val_accuracy: 0.8376\n",
      "Epoch 13/50\n",
      "20/20 [==============================] - 0s 3ms/step - loss: 0.4098 - accuracy: 0.8361 - val_loss: 0.4539 - val_accuracy: 0.8706\n",
      "Epoch 14/50\n",
      "20/20 [==============================] - 0s 3ms/step - loss: 0.4076 - accuracy: 0.8502 - val_loss: 0.4422 - val_accuracy: 0.8259\n",
      "Epoch 15/50\n",
      "20/20 [==============================] - 0s 3ms/step - loss: 0.4218 - accuracy: 0.8471 - val_loss: 0.4498 - val_accuracy: 0.8235\n",
      "Epoch 16/50\n",
      "20/20 [==============================] - 0s 3ms/step - loss: 0.3860 - accuracy: 0.8549 - val_loss: 0.4095 - val_accuracy: 0.8871\n",
      "Epoch 17/50\n",
      "20/20 [==============================] - 0s 3ms/step - loss: 0.4382 - accuracy: 0.8275 - val_loss: 0.5457 - val_accuracy: 0.8518\n",
      "Epoch 18/50\n",
      "20/20 [==============================] - 0s 3ms/step - loss: 0.4399 - accuracy: 0.8455 - val_loss: 0.4658 - val_accuracy: 0.8706\n",
      "Epoch 19/50\n",
      "20/20 [==============================] - 0s 3ms/step - loss: 0.3734 - accuracy: 0.8635 - val_loss: 0.4303 - val_accuracy: 0.8682\n",
      "Epoch 20/50\n",
      "20/20 [==============================] - 0s 3ms/step - loss: 0.3550 - accuracy: 0.8596 - val_loss: 0.3952 - val_accuracy: 0.8682\n",
      "Epoch 21/50\n",
      "20/20 [==============================] - 0s 3ms/step - loss: 0.4136 - accuracy: 0.8408 - val_loss: 0.6516 - val_accuracy: 0.7388\n",
      "Epoch 22/50\n",
      "20/20 [==============================] - 0s 3ms/step - loss: 0.3604 - accuracy: 0.8549 - val_loss: 0.4022 - val_accuracy: 0.8824\n",
      "Epoch 23/50\n",
      "20/20 [==============================] - 0s 3ms/step - loss: 0.3740 - accuracy: 0.8580 - val_loss: 0.4046 - val_accuracy: 0.8635\n",
      "Epoch 24/50\n",
      "20/20 [==============================] - 0s 3ms/step - loss: 0.4267 - accuracy: 0.8424 - val_loss: 0.4348 - val_accuracy: 0.8447\n",
      "Epoch 25/50\n",
      "20/20 [==============================] - 0s 3ms/step - loss: 0.3936 - accuracy: 0.8486 - val_loss: 0.4245 - val_accuracy: 0.8588\n",
      "Epoch 26/50\n",
      "20/20 [==============================] - 0s 3ms/step - loss: 0.3549 - accuracy: 0.8675 - val_loss: 0.4496 - val_accuracy: 0.8471\n",
      "Epoch 27/50\n",
      "20/20 [==============================] - 0s 3ms/step - loss: 0.3601 - accuracy: 0.8541 - val_loss: 0.4478 - val_accuracy: 0.8635\n",
      "Epoch 28/50\n",
      "20/20 [==============================] - 0s 3ms/step - loss: 0.3417 - accuracy: 0.8651 - val_loss: 0.4373 - val_accuracy: 0.8682\n",
      "Epoch 29/50\n",
      "20/20 [==============================] - 0s 3ms/step - loss: 0.3504 - accuracy: 0.8635 - val_loss: 0.4000 - val_accuracy: 0.8706\n",
      "Epoch 30/50\n",
      "20/20 [==============================] - 0s 3ms/step - loss: 0.3695 - accuracy: 0.8580 - val_loss: 0.4479 - val_accuracy: 0.8259\n",
      "Epoch 31/50\n",
      "20/20 [==============================] - 0s 4ms/step - loss: 0.3495 - accuracy: 0.8651 - val_loss: 0.3989 - val_accuracy: 0.8565\n",
      "Epoch 32/50\n",
      "20/20 [==============================] - 0s 4ms/step - loss: 0.3442 - accuracy: 0.8690 - val_loss: 0.4839 - val_accuracy: 0.7882\n",
      "Epoch 33/50\n",
      "20/20 [==============================] - 0s 4ms/step - loss: 0.3345 - accuracy: 0.8698 - val_loss: 0.3852 - val_accuracy: 0.8706\n",
      "Epoch 34/50\n",
      "20/20 [==============================] - 0s 3ms/step - loss: 0.3404 - accuracy: 0.8682 - val_loss: 0.3852 - val_accuracy: 0.8824\n",
      "Epoch 35/50\n",
      "20/20 [==============================] - 0s 3ms/step - loss: 0.3261 - accuracy: 0.8729 - val_loss: 0.4886 - val_accuracy: 0.7882\n",
      "Epoch 36/50\n",
      "20/20 [==============================] - 0s 3ms/step - loss: 0.3594 - accuracy: 0.8573 - val_loss: 0.4404 - val_accuracy: 0.8518\n",
      "Epoch 37/50\n",
      "20/20 [==============================] - 0s 4ms/step - loss: 0.3559 - accuracy: 0.8635 - val_loss: 0.4205 - val_accuracy: 0.8635\n",
      "Epoch 38/50\n",
      "20/20 [==============================] - 0s 4ms/step - loss: 0.3348 - accuracy: 0.8682 - val_loss: 0.3631 - val_accuracy: 0.8894\n",
      "Epoch 39/50\n",
      "20/20 [==============================] - 0s 3ms/step - loss: 0.3493 - accuracy: 0.8722 - val_loss: 0.4257 - val_accuracy: 0.8259\n",
      "Epoch 40/50\n",
      "20/20 [==============================] - 0s 3ms/step - loss: 0.3282 - accuracy: 0.8706 - val_loss: 0.4028 - val_accuracy: 0.8729\n",
      "Epoch 41/50\n",
      "20/20 [==============================] - 0s 4ms/step - loss: 0.3177 - accuracy: 0.8690 - val_loss: 0.3673 - val_accuracy: 0.8659\n",
      "Epoch 42/50\n",
      "20/20 [==============================] - 0s 3ms/step - loss: 0.3242 - accuracy: 0.8745 - val_loss: 0.3759 - val_accuracy: 0.8682\n",
      "Epoch 43/50\n",
      "20/20 [==============================] - 0s 3ms/step - loss: 0.3409 - accuracy: 0.8643 - val_loss: 0.3883 - val_accuracy: 0.8871\n",
      "Epoch 44/50\n",
      "20/20 [==============================] - 0s 4ms/step - loss: 0.3245 - accuracy: 0.8722 - val_loss: 0.3697 - val_accuracy: 0.8565\n",
      "Epoch 45/50\n",
      "20/20 [==============================] - 0s 3ms/step - loss: 0.3080 - accuracy: 0.8776 - val_loss: 0.3715 - val_accuracy: 0.8800\n",
      "Epoch 46/50\n",
      "20/20 [==============================] - 0s 3ms/step - loss: 0.3227 - accuracy: 0.8776 - val_loss: 0.3859 - val_accuracy: 0.8471\n",
      "Epoch 47/50\n",
      "20/20 [==============================] - 0s 3ms/step - loss: 0.3037 - accuracy: 0.8753 - val_loss: 0.3961 - val_accuracy: 0.8541\n",
      "Epoch 48/50\n",
      "20/20 [==============================] - 0s 3ms/step - loss: 0.3309 - accuracy: 0.8620 - val_loss: 0.4539 - val_accuracy: 0.8329\n",
      "Epoch 49/50\n",
      "20/20 [==============================] - 0s 3ms/step - loss: 0.3328 - accuracy: 0.8737 - val_loss: 0.3595 - val_accuracy: 0.8753\n",
      "Epoch 50/50\n",
      "20/20 [==============================] - 0s 4ms/step - loss: 0.3030 - accuracy: 0.8776 - val_loss: 0.3565 - val_accuracy: 0.8894\n"
     ]
    }
   ],
   "source": [
    "model.compile(optimizer='adam', loss='sparse_categorical_crossentropy', metrics=['accuracy'])\n",
    "history = model.fit(X_train, y_train, epochs=50, batch_size=64, validation_data=(X_val, y_val))"
   ]
  },
  {
   "cell_type": "code",
   "execution_count": 70,
   "id": "c461179d-fa45-4a33-b152-4e389551aa74",
   "metadata": {},
   "outputs": [
    {
     "name": "stdout",
     "output_type": "stream",
     "text": [
      "14/14 [==============================] - 0s 1ms/step - loss: 0.3183 - accuracy: 0.9061\n",
      "0.9061033129692078\n"
     ]
    },
    {
     "data": {
      "text/plain": [
       "0.3183370530605316"
      ]
     },
     "execution_count": 70,
     "metadata": {},
     "output_type": "execute_result"
    }
   ],
   "source": [
    "loss, accuracy = model.evaluate(X_test, y_test)\n",
    "print(accuracy)\n",
    "loss"
   ]
  },
  {
   "cell_type": "code",
   "execution_count": 71,
   "id": "fb803ca6-65c4-4ff7-a1bb-6eb61b107b89",
   "metadata": {},
   "outputs": [
    {
     "name": "stdout",
     "output_type": "stream",
     "text": [
      "14/14 [==============================] - 0s 1ms/step\n"
     ]
    }
   ],
   "source": [
    "y_pred = model.predict(X_test)\n",
    "y_pred_clase = y_pred.argmax(axis=1)"
   ]
  },
  {
   "cell_type": "code",
   "execution_count": 72,
   "id": "0feabc88-48c8-4e08-ad31-5e69dd8ea494",
   "metadata": {},
   "outputs": [
    {
     "name": "stdout",
     "output_type": "stream",
     "text": [
      "[[322   7   4]\n",
      " [ 22  40   2]\n",
      " [  1   4  24]]\n"
     ]
    }
   ],
   "source": [
    "matrix = confusion_matrix(y_test, y_pred_clase)\n",
    "print(matrix)"
   ]
  },
  {
   "cell_type": "markdown",
   "id": "0d3ceb10-a9a7-4ae3-8bd9-d5a721227dfd",
   "metadata": {},
   "source": [
    "### Red neuronal 1.1 (variables escaladas)"
   ]
  },
  {
   "cell_type": "code",
   "execution_count": 73,
   "id": "da51c80d-b99a-40e7-8c73-945dd5ea92e4",
   "metadata": {},
   "outputs": [],
   "source": [
    "scaler = MinMaxScaler()\n",
    "X_train_scaled = scaler.fit_transform(X_train)\n",
    "X_test_scaled = scaler.transform(X_test)\n",
    "X_val_scaled = scaler.transform(X_val)"
   ]
  },
  {
   "cell_type": "code",
   "execution_count": 74,
   "id": "3ca62545-84cf-4859-bbe2-2dd849d50d89",
   "metadata": {},
   "outputs": [],
   "source": [
    "model2 = Sequential()\n",
    "\n",
    "model2.add(Dense(64, input_dim=21, activation='relu'))\n",
    "model2.add(Dense(32, activation='relu'))\n",
    "model2.add(Dense(3, activation='softmax'))"
   ]
  },
  {
   "cell_type": "code",
   "execution_count": 75,
   "id": "ee044dae-d47d-40c8-9342-f456ac9b386c",
   "metadata": {},
   "outputs": [
    {
     "name": "stdout",
     "output_type": "stream",
     "text": [
      "Epoch 1/50\n",
      "20/20 [==============================] - 1s 15ms/step - loss: 0.8678 - accuracy: 0.7624 - val_loss: 0.6928 - val_accuracy: 0.7953\n",
      "Epoch 2/50\n",
      "20/20 [==============================] - 0s 4ms/step - loss: 0.6630 - accuracy: 0.7718 - val_loss: 0.5869 - val_accuracy: 0.7953\n",
      "Epoch 3/50\n",
      "20/20 [==============================] - 0s 3ms/step - loss: 0.5956 - accuracy: 0.7718 - val_loss: 0.5413 - val_accuracy: 0.7953\n",
      "Epoch 4/50\n",
      "20/20 [==============================] - 0s 3ms/step - loss: 0.5383 - accuracy: 0.7718 - val_loss: 0.5009 - val_accuracy: 0.7953\n",
      "Epoch 5/50\n",
      "20/20 [==============================] - 0s 3ms/step - loss: 0.4868 - accuracy: 0.7835 - val_loss: 0.4619 - val_accuracy: 0.8141\n",
      "Epoch 6/50\n",
      "20/20 [==============================] - 0s 3ms/step - loss: 0.4390 - accuracy: 0.8071 - val_loss: 0.4271 - val_accuracy: 0.8376\n",
      "Epoch 7/50\n",
      "20/20 [==============================] - 0s 3ms/step - loss: 0.3979 - accuracy: 0.8541 - val_loss: 0.3975 - val_accuracy: 0.8541\n",
      "Epoch 8/50\n",
      "20/20 [==============================] - 0s 3ms/step - loss: 0.3642 - accuracy: 0.8604 - val_loss: 0.3745 - val_accuracy: 0.8612\n",
      "Epoch 9/50\n",
      "20/20 [==============================] - 0s 3ms/step - loss: 0.3358 - accuracy: 0.8722 - val_loss: 0.3570 - val_accuracy: 0.8635\n",
      "Epoch 10/50\n",
      "20/20 [==============================] - 0s 3ms/step - loss: 0.3141 - accuracy: 0.8769 - val_loss: 0.3400 - val_accuracy: 0.8706\n",
      "Epoch 11/50\n",
      "20/20 [==============================] - 0s 3ms/step - loss: 0.2978 - accuracy: 0.8824 - val_loss: 0.3376 - val_accuracy: 0.8800\n",
      "Epoch 12/50\n",
      "20/20 [==============================] - 0s 3ms/step - loss: 0.2845 - accuracy: 0.8878 - val_loss: 0.3227 - val_accuracy: 0.8729\n",
      "Epoch 13/50\n",
      "20/20 [==============================] - 0s 3ms/step - loss: 0.2723 - accuracy: 0.8925 - val_loss: 0.3160 - val_accuracy: 0.8776\n",
      "Epoch 14/50\n",
      "20/20 [==============================] - 0s 3ms/step - loss: 0.2656 - accuracy: 0.8925 - val_loss: 0.3108 - val_accuracy: 0.8753\n",
      "Epoch 15/50\n",
      "20/20 [==============================] - 0s 3ms/step - loss: 0.2568 - accuracy: 0.8941 - val_loss: 0.3086 - val_accuracy: 0.8776\n",
      "Epoch 16/50\n",
      "20/20 [==============================] - 0s 4ms/step - loss: 0.2505 - accuracy: 0.8996 - val_loss: 0.3063 - val_accuracy: 0.8776\n",
      "Epoch 17/50\n",
      "20/20 [==============================] - 0s 3ms/step - loss: 0.2470 - accuracy: 0.8941 - val_loss: 0.3006 - val_accuracy: 0.8776\n",
      "Epoch 18/50\n",
      "20/20 [==============================] - 0s 3ms/step - loss: 0.2398 - accuracy: 0.8965 - val_loss: 0.2994 - val_accuracy: 0.8847\n",
      "Epoch 19/50\n",
      "20/20 [==============================] - 0s 3ms/step - loss: 0.2377 - accuracy: 0.9012 - val_loss: 0.2970 - val_accuracy: 0.8871\n",
      "Epoch 20/50\n",
      "20/20 [==============================] - 0s 3ms/step - loss: 0.2324 - accuracy: 0.8973 - val_loss: 0.2951 - val_accuracy: 0.8824\n",
      "Epoch 21/50\n",
      "20/20 [==============================] - 0s 3ms/step - loss: 0.2308 - accuracy: 0.8980 - val_loss: 0.2931 - val_accuracy: 0.8800\n",
      "Epoch 22/50\n",
      "20/20 [==============================] - 0s 3ms/step - loss: 0.2310 - accuracy: 0.9012 - val_loss: 0.2917 - val_accuracy: 0.8847\n",
      "Epoch 23/50\n",
      "20/20 [==============================] - 0s 3ms/step - loss: 0.2241 - accuracy: 0.8980 - val_loss: 0.2949 - val_accuracy: 0.8753\n",
      "Epoch 24/50\n",
      "20/20 [==============================] - 0s 3ms/step - loss: 0.2239 - accuracy: 0.8988 - val_loss: 0.2897 - val_accuracy: 0.8776\n",
      "Epoch 25/50\n",
      "20/20 [==============================] - 0s 3ms/step - loss: 0.2198 - accuracy: 0.9059 - val_loss: 0.2957 - val_accuracy: 0.8776\n",
      "Epoch 26/50\n",
      "20/20 [==============================] - 0s 3ms/step - loss: 0.2204 - accuracy: 0.8996 - val_loss: 0.2853 - val_accuracy: 0.8847\n",
      "Epoch 27/50\n",
      "20/20 [==============================] - 0s 3ms/step - loss: 0.2174 - accuracy: 0.9051 - val_loss: 0.2844 - val_accuracy: 0.8776\n",
      "Epoch 28/50\n",
      "20/20 [==============================] - 0s 3ms/step - loss: 0.2155 - accuracy: 0.9035 - val_loss: 0.2849 - val_accuracy: 0.8824\n",
      "Epoch 29/50\n",
      "20/20 [==============================] - 0s 3ms/step - loss: 0.2128 - accuracy: 0.9067 - val_loss: 0.2802 - val_accuracy: 0.8824\n",
      "Epoch 30/50\n",
      "20/20 [==============================] - 0s 3ms/step - loss: 0.2147 - accuracy: 0.9067 - val_loss: 0.2827 - val_accuracy: 0.8800\n",
      "Epoch 31/50\n",
      "20/20 [==============================] - 0s 3ms/step - loss: 0.2094 - accuracy: 0.9027 - val_loss: 0.2835 - val_accuracy: 0.8776\n",
      "Epoch 32/50\n",
      "20/20 [==============================] - 0s 3ms/step - loss: 0.2099 - accuracy: 0.9106 - val_loss: 0.2846 - val_accuracy: 0.8776\n",
      "Epoch 33/50\n",
      "20/20 [==============================] - 0s 3ms/step - loss: 0.2066 - accuracy: 0.9114 - val_loss: 0.2771 - val_accuracy: 0.8894\n",
      "Epoch 34/50\n",
      "20/20 [==============================] - 0s 3ms/step - loss: 0.2043 - accuracy: 0.9106 - val_loss: 0.2793 - val_accuracy: 0.8824\n",
      "Epoch 35/50\n",
      "20/20 [==============================] - 0s 3ms/step - loss: 0.2065 - accuracy: 0.9129 - val_loss: 0.2799 - val_accuracy: 0.8776\n",
      "Epoch 36/50\n",
      "20/20 [==============================] - 0s 3ms/step - loss: 0.2058 - accuracy: 0.9122 - val_loss: 0.2779 - val_accuracy: 0.8776\n",
      "Epoch 37/50\n",
      "20/20 [==============================] - 0s 3ms/step - loss: 0.2025 - accuracy: 0.9122 - val_loss: 0.2770 - val_accuracy: 0.8800\n",
      "Epoch 38/50\n",
      "20/20 [==============================] - 0s 3ms/step - loss: 0.2005 - accuracy: 0.9169 - val_loss: 0.2767 - val_accuracy: 0.8753\n",
      "Epoch 39/50\n",
      "20/20 [==============================] - 0s 3ms/step - loss: 0.1977 - accuracy: 0.9114 - val_loss: 0.2740 - val_accuracy: 0.8800\n",
      "Epoch 40/50\n",
      "20/20 [==============================] - 0s 3ms/step - loss: 0.2026 - accuracy: 0.9169 - val_loss: 0.2721 - val_accuracy: 0.8847\n",
      "Epoch 41/50\n",
      "20/20 [==============================] - 0s 3ms/step - loss: 0.2007 - accuracy: 0.9075 - val_loss: 0.2734 - val_accuracy: 0.8941\n",
      "Epoch 42/50\n",
      "20/20 [==============================] - 0s 3ms/step - loss: 0.1964 - accuracy: 0.9176 - val_loss: 0.2701 - val_accuracy: 0.8800\n",
      "Epoch 43/50\n",
      "20/20 [==============================] - 0s 3ms/step - loss: 0.1972 - accuracy: 0.9161 - val_loss: 0.2693 - val_accuracy: 0.8847\n",
      "Epoch 44/50\n",
      "20/20 [==============================] - 0s 3ms/step - loss: 0.1942 - accuracy: 0.9200 - val_loss: 0.2683 - val_accuracy: 0.8824\n",
      "Epoch 45/50\n",
      "20/20 [==============================] - 0s 3ms/step - loss: 0.1924 - accuracy: 0.9161 - val_loss: 0.2698 - val_accuracy: 0.8800\n",
      "Epoch 46/50\n",
      "20/20 [==============================] - 0s 4ms/step - loss: 0.1950 - accuracy: 0.9216 - val_loss: 0.2706 - val_accuracy: 0.8800\n",
      "Epoch 47/50\n",
      "20/20 [==============================] - 0s 3ms/step - loss: 0.1932 - accuracy: 0.9161 - val_loss: 0.2679 - val_accuracy: 0.8800\n",
      "Epoch 48/50\n",
      "20/20 [==============================] - 0s 4ms/step - loss: 0.1902 - accuracy: 0.9224 - val_loss: 0.2721 - val_accuracy: 0.8776\n",
      "Epoch 49/50\n",
      "20/20 [==============================] - 0s 3ms/step - loss: 0.1903 - accuracy: 0.9192 - val_loss: 0.2662 - val_accuracy: 0.8824\n",
      "Epoch 50/50\n",
      "20/20 [==============================] - 0s 3ms/step - loss: 0.1880 - accuracy: 0.9184 - val_loss: 0.2651 - val_accuracy: 0.8776\n"
     ]
    }
   ],
   "source": [
    "model2.compile(optimizer='adam', loss='sparse_categorical_crossentropy', metrics=['accuracy'])\n",
    "history = model2.fit(X_train_scaled, y_train, epochs=50, batch_size=64, validation_data=(X_val_scaled, y_val))"
   ]
  },
  {
   "cell_type": "code",
   "execution_count": 76,
   "id": "40cf6a94-4203-4690-b1df-fe3ec2b4fa8c",
   "metadata": {},
   "outputs": [
    {
     "name": "stdout",
     "output_type": "stream",
     "text": [
      "14/14 [==============================] - 0s 1ms/step - loss: 0.2651 - accuracy: 0.8967\n",
      "0.8967136144638062\n"
     ]
    },
    {
     "data": {
      "text/plain": [
       "0.26511579751968384"
      ]
     },
     "execution_count": 76,
     "metadata": {},
     "output_type": "execute_result"
    }
   ],
   "source": [
    "loss2, accuracy2 = model2.evaluate(X_test_scaled, y_test)\n",
    "print(accuracy2)\n",
    "loss2"
   ]
  },
  {
   "cell_type": "code",
   "execution_count": 77,
   "id": "ce21b811-949d-4b10-8d8b-739e53d351e2",
   "metadata": {},
   "outputs": [
    {
     "name": "stdout",
     "output_type": "stream",
     "text": [
      "14/14 [==============================] - 0s 1ms/step\n"
     ]
    }
   ],
   "source": [
    "y_pred2 = model2.predict(X_test_scaled)\n",
    "y_pred2_clase = y_pred2.argmax(axis=1)"
   ]
  },
  {
   "cell_type": "code",
   "execution_count": 78,
   "id": "04c36a81-f964-42a7-b596-54a67837bcdb",
   "metadata": {},
   "outputs": [
    {
     "name": "stdout",
     "output_type": "stream",
     "text": [
      "[[317  16   0]\n",
      " [ 19  43   2]\n",
      " [  3   4  22]]\n"
     ]
    }
   ],
   "source": [
    "matrix2 = confusion_matrix(y_test, y_pred2_clase)\n",
    "print(matrix2)"
   ]
  },
  {
   "cell_type": "markdown",
   "id": "fcb8807b-065b-48b1-a69b-e5ce04d8e48b",
   "metadata": {},
   "source": [
    "### Red neuronal 1.2 (Con dropout, BatchNormalization y capa densa extra)"
   ]
  },
  {
   "cell_type": "code",
   "execution_count": 79,
   "id": "19c5211a-b0e6-4124-aad4-45f20bca4e2e",
   "metadata": {},
   "outputs": [],
   "source": [
    "model3 = Sequential()\n",
    "\n",
    "model3.add(Dense(128, input_dim=21, activation='relu'))\n",
    "model3.add(BatchNormalization())\n",
    "model3.add(Dropout(0.2))\n",
    "model3.add(Dense(64, activation='relu'))\n",
    "model3.add(BatchNormalization())\n",
    "model3.add(Dropout(0.2))\n",
    "model3.add(Dense(32, activation='relu'))\n",
    "model3.add(BatchNormalization())\n",
    "model3.add(Dropout(0.2))\n",
    "model3.add(Dense(16, activation='relu'))\n",
    "model3.add(BatchNormalization())\n",
    "model3.add(Dropout(0.2))\n",
    "model3.add(Dense(3, activation='softmax'))"
   ]
  },
  {
   "cell_type": "code",
   "execution_count": 80,
   "id": "b08b0093-4242-41f2-bc5b-0d3ed19c9a65",
   "metadata": {},
   "outputs": [
    {
     "name": "stdout",
     "output_type": "stream",
     "text": [
      "Epoch 1/50\n",
      "20/20 [==============================] - 2s 20ms/step - loss: 1.1942 - accuracy: 0.4510 - val_loss: 1.0782 - val_accuracy: 0.1365\n",
      "Epoch 2/50\n",
      "20/20 [==============================] - 0s 7ms/step - loss: 0.9558 - accuracy: 0.5796 - val_loss: 1.0147 - val_accuracy: 0.6353\n",
      "Epoch 3/50\n",
      "20/20 [==============================] - 0s 5ms/step - loss: 0.7731 - accuracy: 0.6941 - val_loss: 0.9197 - val_accuracy: 0.7953\n",
      "Epoch 4/50\n",
      "20/20 [==============================] - 0s 5ms/step - loss: 0.6836 - accuracy: 0.7396 - val_loss: 0.8166 - val_accuracy: 0.7953\n",
      "Epoch 5/50\n",
      "20/20 [==============================] - 0s 5ms/step - loss: 0.6103 - accuracy: 0.8055 - val_loss: 0.7314 - val_accuracy: 0.7953\n",
      "Epoch 6/50\n",
      "20/20 [==============================] - 0s 5ms/step - loss: 0.5736 - accuracy: 0.8243 - val_loss: 0.6666 - val_accuracy: 0.7953\n",
      "Epoch 7/50\n",
      "20/20 [==============================] - 0s 5ms/step - loss: 0.5018 - accuracy: 0.8392 - val_loss: 0.6127 - val_accuracy: 0.7953\n",
      "Epoch 8/50\n",
      "20/20 [==============================] - 0s 5ms/step - loss: 0.4742 - accuracy: 0.8604 - val_loss: 0.5783 - val_accuracy: 0.7953\n",
      "Epoch 9/50\n",
      "20/20 [==============================] - 0s 5ms/step - loss: 0.4424 - accuracy: 0.8651 - val_loss: 0.5646 - val_accuracy: 0.7953\n",
      "Epoch 10/50\n",
      "20/20 [==============================] - 0s 5ms/step - loss: 0.4135 - accuracy: 0.8784 - val_loss: 0.5498 - val_accuracy: 0.7953\n",
      "Epoch 11/50\n",
      "20/20 [==============================] - 0s 6ms/step - loss: 0.3818 - accuracy: 0.8886 - val_loss: 0.5232 - val_accuracy: 0.8071\n",
      "Epoch 12/50\n",
      "20/20 [==============================] - 0s 6ms/step - loss: 0.3692 - accuracy: 0.8839 - val_loss: 0.5160 - val_accuracy: 0.8047\n",
      "Epoch 13/50\n",
      "20/20 [==============================] - 0s 6ms/step - loss: 0.3487 - accuracy: 0.8949 - val_loss: 0.4960 - val_accuracy: 0.8118\n",
      "Epoch 14/50\n",
      "20/20 [==============================] - 0s 6ms/step - loss: 0.3399 - accuracy: 0.8933 - val_loss: 0.4953 - val_accuracy: 0.8165\n",
      "Epoch 15/50\n",
      "20/20 [==============================] - 0s 6ms/step - loss: 0.3249 - accuracy: 0.8894 - val_loss: 0.4627 - val_accuracy: 0.8212\n",
      "Epoch 16/50\n",
      "20/20 [==============================] - 0s 5ms/step - loss: 0.3242 - accuracy: 0.8933 - val_loss: 0.4290 - val_accuracy: 0.8235\n",
      "Epoch 17/50\n",
      "20/20 [==============================] - 0s 5ms/step - loss: 0.3196 - accuracy: 0.8847 - val_loss: 0.4245 - val_accuracy: 0.8259\n",
      "Epoch 18/50\n",
      "20/20 [==============================] - 0s 5ms/step - loss: 0.2819 - accuracy: 0.9012 - val_loss: 0.4068 - val_accuracy: 0.8306\n",
      "Epoch 19/50\n",
      "20/20 [==============================] - 0s 5ms/step - loss: 0.2806 - accuracy: 0.8965 - val_loss: 0.4066 - val_accuracy: 0.8282\n",
      "Epoch 20/50\n",
      "20/20 [==============================] - 0s 5ms/step - loss: 0.2848 - accuracy: 0.9059 - val_loss: 0.3665 - val_accuracy: 0.8424\n",
      "Epoch 21/50\n",
      "20/20 [==============================] - 0s 6ms/step - loss: 0.2695 - accuracy: 0.8996 - val_loss: 0.3357 - val_accuracy: 0.8541\n",
      "Epoch 22/50\n",
      "20/20 [==============================] - 0s 6ms/step - loss: 0.2978 - accuracy: 0.8941 - val_loss: 0.3162 - val_accuracy: 0.8565\n",
      "Epoch 23/50\n",
      "20/20 [==============================] - 0s 6ms/step - loss: 0.2605 - accuracy: 0.9043 - val_loss: 0.2962 - val_accuracy: 0.8635\n",
      "Epoch 24/50\n",
      "20/20 [==============================] - 0s 6ms/step - loss: 0.2481 - accuracy: 0.9106 - val_loss: 0.2843 - val_accuracy: 0.8706\n",
      "Epoch 25/50\n",
      "20/20 [==============================] - 0s 6ms/step - loss: 0.2477 - accuracy: 0.9027 - val_loss: 0.2763 - val_accuracy: 0.8682\n",
      "Epoch 26/50\n",
      "20/20 [==============================] - 0s 6ms/step - loss: 0.2595 - accuracy: 0.9043 - val_loss: 0.2722 - val_accuracy: 0.8729\n",
      "Epoch 27/50\n",
      "20/20 [==============================] - 0s 6ms/step - loss: 0.2420 - accuracy: 0.9059 - val_loss: 0.2598 - val_accuracy: 0.8871\n",
      "Epoch 28/50\n",
      "20/20 [==============================] - 0s 6ms/step - loss: 0.2416 - accuracy: 0.9137 - val_loss: 0.2632 - val_accuracy: 0.8776\n",
      "Epoch 29/50\n",
      "20/20 [==============================] - 0s 6ms/step - loss: 0.2413 - accuracy: 0.9067 - val_loss: 0.2563 - val_accuracy: 0.8894\n",
      "Epoch 30/50\n",
      "20/20 [==============================] - 0s 6ms/step - loss: 0.2587 - accuracy: 0.9059 - val_loss: 0.2510 - val_accuracy: 0.8824\n",
      "Epoch 31/50\n",
      "20/20 [==============================] - 0s 5ms/step - loss: 0.2442 - accuracy: 0.9106 - val_loss: 0.2531 - val_accuracy: 0.8824\n",
      "Epoch 32/50\n",
      "20/20 [==============================] - 0s 6ms/step - loss: 0.2454 - accuracy: 0.9059 - val_loss: 0.2383 - val_accuracy: 0.8988\n",
      "Epoch 33/50\n",
      "20/20 [==============================] - 0s 6ms/step - loss: 0.2128 - accuracy: 0.9145 - val_loss: 0.2645 - val_accuracy: 0.8988\n",
      "Epoch 34/50\n",
      "20/20 [==============================] - 0s 6ms/step - loss: 0.2353 - accuracy: 0.9012 - val_loss: 0.2561 - val_accuracy: 0.8871\n",
      "Epoch 35/50\n",
      "20/20 [==============================] - 0s 6ms/step - loss: 0.2326 - accuracy: 0.9129 - val_loss: 0.2373 - val_accuracy: 0.9059\n",
      "Epoch 36/50\n",
      "20/20 [==============================] - 0s 6ms/step - loss: 0.2403 - accuracy: 0.9098 - val_loss: 0.2366 - val_accuracy: 0.8988\n",
      "Epoch 37/50\n",
      "20/20 [==============================] - 0s 6ms/step - loss: 0.2256 - accuracy: 0.9114 - val_loss: 0.2452 - val_accuracy: 0.9012\n",
      "Epoch 38/50\n",
      "20/20 [==============================] - 0s 5ms/step - loss: 0.2131 - accuracy: 0.9176 - val_loss: 0.2405 - val_accuracy: 0.8918\n",
      "Epoch 39/50\n",
      "20/20 [==============================] - 0s 5ms/step - loss: 0.2258 - accuracy: 0.9129 - val_loss: 0.2470 - val_accuracy: 0.9035\n",
      "Epoch 40/50\n",
      "20/20 [==============================] - 0s 5ms/step - loss: 0.2320 - accuracy: 0.9027 - val_loss: 0.2410 - val_accuracy: 0.9012\n",
      "Epoch 41/50\n",
      "20/20 [==============================] - 0s 5ms/step - loss: 0.2147 - accuracy: 0.9247 - val_loss: 0.2279 - val_accuracy: 0.8988\n",
      "Epoch 42/50\n",
      "20/20 [==============================] - 0s 5ms/step - loss: 0.2419 - accuracy: 0.9020 - val_loss: 0.2366 - val_accuracy: 0.9012\n",
      "Epoch 43/50\n",
      "20/20 [==============================] - 0s 5ms/step - loss: 0.2186 - accuracy: 0.9184 - val_loss: 0.2485 - val_accuracy: 0.9059\n",
      "Epoch 44/50\n",
      "20/20 [==============================] - 0s 6ms/step - loss: 0.2086 - accuracy: 0.9192 - val_loss: 0.2279 - val_accuracy: 0.8988\n",
      "Epoch 45/50\n",
      "20/20 [==============================] - 0s 6ms/step - loss: 0.2088 - accuracy: 0.9208 - val_loss: 0.2295 - val_accuracy: 0.9059\n",
      "Epoch 46/50\n",
      "20/20 [==============================] - 0s 7ms/step - loss: 0.2162 - accuracy: 0.9082 - val_loss: 0.2382 - val_accuracy: 0.9129\n",
      "Epoch 47/50\n",
      "20/20 [==============================] - 0s 9ms/step - loss: 0.2147 - accuracy: 0.9161 - val_loss: 0.2152 - val_accuracy: 0.8965\n",
      "Epoch 48/50\n",
      "20/20 [==============================] - 0s 6ms/step - loss: 0.1987 - accuracy: 0.9200 - val_loss: 0.2151 - val_accuracy: 0.9035\n",
      "Epoch 49/50\n",
      "20/20 [==============================] - 0s 7ms/step - loss: 0.1924 - accuracy: 0.9208 - val_loss: 0.2186 - val_accuracy: 0.9153\n",
      "Epoch 50/50\n",
      "20/20 [==============================] - 0s 6ms/step - loss: 0.1868 - accuracy: 0.9216 - val_loss: 0.2276 - val_accuracy: 0.8965\n"
     ]
    }
   ],
   "source": [
    "model3.compile(optimizer='adam', loss='sparse_categorical_crossentropy', metrics=['accuracy'])\n",
    "history = model3.fit(X_train_scaled, y_train, epochs=50, batch_size=64, validation_data=(X_val_scaled, y_val))"
   ]
  },
  {
   "cell_type": "code",
   "execution_count": 81,
   "id": "c48d73cc-691c-4719-8c82-5574c2de9216",
   "metadata": {},
   "outputs": [
    {
     "name": "stdout",
     "output_type": "stream",
     "text": [
      "14/14 [==============================] - 0s 2ms/step - loss: 0.2461 - accuracy: 0.8944\n",
      "0.8943662047386169\n"
     ]
    },
    {
     "data": {
      "text/plain": [
       "0.2460983693599701"
      ]
     },
     "execution_count": 81,
     "metadata": {},
     "output_type": "execute_result"
    }
   ],
   "source": [
    "loss3, accuracy3 = model3.evaluate(X_test_scaled, y_test)\n",
    "print(accuracy3)\n",
    "loss3"
   ]
  },
  {
   "cell_type": "code",
   "execution_count": 82,
   "id": "6947e8bd-cef5-4663-929f-1b02262096e7",
   "metadata": {},
   "outputs": [
    {
     "name": "stdout",
     "output_type": "stream",
     "text": [
      "14/14 [==============================] - 0s 2ms/step\n"
     ]
    }
   ],
   "source": [
    "y_pred3 = model3.predict(X_test_scaled)\n",
    "y_pred3_clase = y_pred3.argmax(axis=1)"
   ]
  },
  {
   "cell_type": "code",
   "execution_count": 83,
   "id": "be8b4e79-11c2-464e-bde7-b67d14588821",
   "metadata": {},
   "outputs": [
    {
     "name": "stdout",
     "output_type": "stream",
     "text": [
      "[[312  20   1]\n",
      " [ 14  44   6]\n",
      " [  1   3  25]]\n"
     ]
    }
   ],
   "source": [
    "matrix3 = confusion_matrix(y_test, y_pred3_clase)\n",
    "print(matrix3)"
   ]
  },
  {
   "cell_type": "markdown",
   "id": "aa73f67a-55b1-4660-a257-7e122196775e",
   "metadata": {},
   "source": [
    "### Red neuronal 1.3 (Con función de activación swish)"
   ]
  },
  {
   "cell_type": "code",
   "execution_count": 84,
   "id": "fb9a9c4d-d133-4e76-82a6-d722c81b6348",
   "metadata": {},
   "outputs": [],
   "source": [
    "model4 = Sequential()\n",
    "\n",
    "model4.add(Dense(128, input_dim=21, activation='swish'))\n",
    "model4.add(BatchNormalization())\n",
    "model4.add(Dropout(0.2))\n",
    "model4.add(Dense(64, activation='swish'))\n",
    "model4.add(BatchNormalization())\n",
    "model4.add(Dropout(0.2))\n",
    "model4.add(Dense(32, activation='swish'))\n",
    "model4.add(BatchNormalization())\n",
    "model4.add(Dropout(0.2))\n",
    "model4.add(Dense(16, activation='swish'))\n",
    "model4.add(BatchNormalization())\n",
    "model4.add(Dropout(0.2))\n",
    "model4.add(Dense(3, activation='softmax'))"
   ]
  },
  {
   "cell_type": "code",
   "execution_count": 85,
   "id": "cfbfa0e7-62fd-479d-a41d-0daf7f067db9",
   "metadata": {},
   "outputs": [
    {
     "name": "stdout",
     "output_type": "stream",
     "text": [
      "Epoch 1/50\n",
      "20/20 [==============================] - 3s 24ms/step - loss: 1.2170 - accuracy: 0.4894 - val_loss: 0.9528 - val_accuracy: 0.7953\n",
      "Epoch 2/50\n",
      "20/20 [==============================] - 0s 7ms/step - loss: 0.8756 - accuracy: 0.6376 - val_loss: 0.8127 - val_accuracy: 0.7953\n",
      "Epoch 3/50\n",
      "20/20 [==============================] - 0s 6ms/step - loss: 0.7707 - accuracy: 0.7090 - val_loss: 0.6995 - val_accuracy: 0.7953\n",
      "Epoch 4/50\n",
      "20/20 [==============================] - 0s 6ms/step - loss: 0.6840 - accuracy: 0.7561 - val_loss: 0.6346 - val_accuracy: 0.7953\n",
      "Epoch 5/50\n",
      "20/20 [==============================] - 0s 6ms/step - loss: 0.5943 - accuracy: 0.8000 - val_loss: 0.6092 - val_accuracy: 0.7953\n",
      "Epoch 6/50\n",
      "20/20 [==============================] - 0s 6ms/step - loss: 0.5370 - accuracy: 0.8314 - val_loss: 0.5988 - val_accuracy: 0.7953\n",
      "Epoch 7/50\n",
      "20/20 [==============================] - 0s 6ms/step - loss: 0.4804 - accuracy: 0.8463 - val_loss: 0.6009 - val_accuracy: 0.7953\n",
      "Epoch 8/50\n",
      "20/20 [==============================] - 0s 6ms/step - loss: 0.4599 - accuracy: 0.8573 - val_loss: 0.6082 - val_accuracy: 0.7953\n",
      "Epoch 9/50\n",
      "20/20 [==============================] - 0s 6ms/step - loss: 0.4463 - accuracy: 0.8643 - val_loss: 0.6171 - val_accuracy: 0.7953\n",
      "Epoch 10/50\n",
      "20/20 [==============================] - 0s 6ms/step - loss: 0.3907 - accuracy: 0.8769 - val_loss: 0.6195 - val_accuracy: 0.7953\n",
      "Epoch 11/50\n",
      "20/20 [==============================] - 0s 6ms/step - loss: 0.3922 - accuracy: 0.8690 - val_loss: 0.6225 - val_accuracy: 0.7953\n",
      "Epoch 12/50\n",
      "20/20 [==============================] - 0s 6ms/step - loss: 0.3613 - accuracy: 0.8776 - val_loss: 0.6237 - val_accuracy: 0.7953\n",
      "Epoch 13/50\n",
      "20/20 [==============================] - 0s 6ms/step - loss: 0.3665 - accuracy: 0.8855 - val_loss: 0.6188 - val_accuracy: 0.7953\n",
      "Epoch 14/50\n",
      "20/20 [==============================] - 0s 6ms/step - loss: 0.3811 - accuracy: 0.8831 - val_loss: 0.6224 - val_accuracy: 0.7953\n",
      "Epoch 15/50\n",
      "20/20 [==============================] - 0s 6ms/step - loss: 0.3154 - accuracy: 0.8933 - val_loss: 0.6008 - val_accuracy: 0.7976\n",
      "Epoch 16/50\n",
      "20/20 [==============================] - 0s 6ms/step - loss: 0.3375 - accuracy: 0.8855 - val_loss: 0.5975 - val_accuracy: 0.7976\n",
      "Epoch 17/50\n",
      "20/20 [==============================] - 0s 6ms/step - loss: 0.3235 - accuracy: 0.8863 - val_loss: 0.5935 - val_accuracy: 0.8047\n",
      "Epoch 18/50\n",
      "20/20 [==============================] - 0s 6ms/step - loss: 0.3050 - accuracy: 0.8925 - val_loss: 0.5505 - val_accuracy: 0.8071\n",
      "Epoch 19/50\n",
      "20/20 [==============================] - 0s 6ms/step - loss: 0.3229 - accuracy: 0.8800 - val_loss: 0.5370 - val_accuracy: 0.8071\n",
      "Epoch 20/50\n",
      "20/20 [==============================] - 0s 6ms/step - loss: 0.3154 - accuracy: 0.8902 - val_loss: 0.5023 - val_accuracy: 0.8188\n",
      "Epoch 21/50\n",
      "20/20 [==============================] - 0s 6ms/step - loss: 0.2880 - accuracy: 0.8996 - val_loss: 0.4859 - val_accuracy: 0.8235\n",
      "Epoch 22/50\n",
      "20/20 [==============================] - 0s 6ms/step - loss: 0.2872 - accuracy: 0.8933 - val_loss: 0.4739 - val_accuracy: 0.8235\n",
      "Epoch 23/50\n",
      "20/20 [==============================] - 0s 6ms/step - loss: 0.2872 - accuracy: 0.8918 - val_loss: 0.4466 - val_accuracy: 0.8306\n",
      "Epoch 24/50\n",
      "20/20 [==============================] - 0s 6ms/step - loss: 0.2789 - accuracy: 0.9004 - val_loss: 0.3835 - val_accuracy: 0.8376\n",
      "Epoch 25/50\n",
      "20/20 [==============================] - 0s 6ms/step - loss: 0.2585 - accuracy: 0.8980 - val_loss: 0.3675 - val_accuracy: 0.8447\n",
      "Epoch 26/50\n",
      "20/20 [==============================] - 0s 6ms/step - loss: 0.2695 - accuracy: 0.9075 - val_loss: 0.3374 - val_accuracy: 0.8541\n",
      "Epoch 27/50\n",
      "20/20 [==============================] - 0s 6ms/step - loss: 0.2671 - accuracy: 0.8996 - val_loss: 0.3075 - val_accuracy: 0.8612\n",
      "Epoch 28/50\n",
      "20/20 [==============================] - 0s 6ms/step - loss: 0.2653 - accuracy: 0.8980 - val_loss: 0.2972 - val_accuracy: 0.8471\n",
      "Epoch 29/50\n",
      "20/20 [==============================] - 0s 6ms/step - loss: 0.2646 - accuracy: 0.8980 - val_loss: 0.2925 - val_accuracy: 0.8541\n",
      "Epoch 30/50\n",
      "20/20 [==============================] - 0s 6ms/step - loss: 0.2732 - accuracy: 0.8957 - val_loss: 0.2998 - val_accuracy: 0.8682\n",
      "Epoch 31/50\n",
      "20/20 [==============================] - 0s 6ms/step - loss: 0.2568 - accuracy: 0.9122 - val_loss: 0.2767 - val_accuracy: 0.8776\n",
      "Epoch 32/50\n",
      "20/20 [==============================] - 0s 6ms/step - loss: 0.2484 - accuracy: 0.9059 - val_loss: 0.2692 - val_accuracy: 0.8824\n",
      "Epoch 33/50\n",
      "20/20 [==============================] - 0s 7ms/step - loss: 0.2473 - accuracy: 0.9027 - val_loss: 0.2599 - val_accuracy: 0.8753\n",
      "Epoch 34/50\n",
      "20/20 [==============================] - 0s 7ms/step - loss: 0.2519 - accuracy: 0.8996 - val_loss: 0.2554 - val_accuracy: 0.8918\n",
      "Epoch 35/50\n",
      "20/20 [==============================] - 0s 7ms/step - loss: 0.2239 - accuracy: 0.9145 - val_loss: 0.2463 - val_accuracy: 0.8871\n",
      "Epoch 36/50\n",
      "20/20 [==============================] - 0s 7ms/step - loss: 0.2664 - accuracy: 0.8949 - val_loss: 0.2582 - val_accuracy: 0.8894\n",
      "Epoch 37/50\n",
      "20/20 [==============================] - 0s 7ms/step - loss: 0.2320 - accuracy: 0.9114 - val_loss: 0.2542 - val_accuracy: 0.8871\n",
      "Epoch 38/50\n",
      "20/20 [==============================] - 0s 7ms/step - loss: 0.2235 - accuracy: 0.9122 - val_loss: 0.2448 - val_accuracy: 0.8918\n",
      "Epoch 39/50\n",
      "20/20 [==============================] - 0s 7ms/step - loss: 0.2366 - accuracy: 0.9035 - val_loss: 0.2349 - val_accuracy: 0.9012\n",
      "Epoch 40/50\n",
      "20/20 [==============================] - 0s 7ms/step - loss: 0.2443 - accuracy: 0.9012 - val_loss: 0.2475 - val_accuracy: 0.8776\n",
      "Epoch 41/50\n",
      "20/20 [==============================] - 0s 7ms/step - loss: 0.2305 - accuracy: 0.9129 - val_loss: 0.2384 - val_accuracy: 0.8965\n",
      "Epoch 42/50\n",
      "20/20 [==============================] - 0s 7ms/step - loss: 0.2707 - accuracy: 0.8933 - val_loss: 0.2466 - val_accuracy: 0.9059\n",
      "Epoch 43/50\n",
      "20/20 [==============================] - 0s 7ms/step - loss: 0.2449 - accuracy: 0.9059 - val_loss: 0.2457 - val_accuracy: 0.8824\n",
      "Epoch 44/50\n",
      "20/20 [==============================] - 0s 6ms/step - loss: 0.2270 - accuracy: 0.9075 - val_loss: 0.2483 - val_accuracy: 0.8824\n",
      "Epoch 45/50\n",
      "20/20 [==============================] - 0s 6ms/step - loss: 0.2462 - accuracy: 0.9043 - val_loss: 0.2360 - val_accuracy: 0.8918\n",
      "Epoch 46/50\n",
      "20/20 [==============================] - 0s 6ms/step - loss: 0.2252 - accuracy: 0.9122 - val_loss: 0.2289 - val_accuracy: 0.9059\n",
      "Epoch 47/50\n",
      "20/20 [==============================] - 0s 6ms/step - loss: 0.2336 - accuracy: 0.9059 - val_loss: 0.2237 - val_accuracy: 0.9059\n",
      "Epoch 48/50\n",
      "20/20 [==============================] - 0s 6ms/step - loss: 0.2218 - accuracy: 0.9129 - val_loss: 0.2333 - val_accuracy: 0.8941\n",
      "Epoch 49/50\n",
      "20/20 [==============================] - 0s 6ms/step - loss: 0.2228 - accuracy: 0.9129 - val_loss: 0.2304 - val_accuracy: 0.8988\n",
      "Epoch 50/50\n",
      "20/20 [==============================] - 0s 6ms/step - loss: 0.2108 - accuracy: 0.9231 - val_loss: 0.2326 - val_accuracy: 0.9035\n"
     ]
    }
   ],
   "source": [
    "model4.compile(optimizer='adam', loss='sparse_categorical_crossentropy', metrics=['accuracy'])\n",
    "history = model4.fit(X_train_scaled, y_train, epochs=50, batch_size=64, validation_data=(X_val_scaled, y_val))"
   ]
  },
  {
   "cell_type": "code",
   "execution_count": 86,
   "id": "8841da50-65ff-4d0a-846d-a5cd6d5e26ad",
   "metadata": {},
   "outputs": [
    {
     "name": "stdout",
     "output_type": "stream",
     "text": [
      "14/14 [==============================] - 0s 2ms/step - loss: 0.2220 - accuracy: 0.9108\n",
      "0.9107981324195862\n"
     ]
    },
    {
     "data": {
      "text/plain": [
       "0.22198963165283203"
      ]
     },
     "execution_count": 86,
     "metadata": {},
     "output_type": "execute_result"
    }
   ],
   "source": [
    "loss4, accuracy4 = model4.evaluate(X_test_scaled, y_test)\n",
    "print(accuracy4)\n",
    "loss4"
   ]
  },
  {
   "cell_type": "code",
   "execution_count": 87,
   "id": "459df82b-ad9f-461e-a4ff-508e78820eb2",
   "metadata": {},
   "outputs": [
    {
     "name": "stdout",
     "output_type": "stream",
     "text": [
      "14/14 [==============================] - 0s 2ms/step\n"
     ]
    }
   ],
   "source": [
    "y_pred4 = model4.predict(X_test_scaled)\n",
    "y_pred4_clase = y_pred4.argmax(axis=1)"
   ]
  },
  {
   "cell_type": "code",
   "execution_count": 88,
   "id": "6316acdf-8bf2-4583-b3d0-ca2a28a9cf03",
   "metadata": {},
   "outputs": [
    {
     "name": "stdout",
     "output_type": "stream",
     "text": [
      "[[323  10   0]\n",
      " [ 19  44   1]\n",
      " [  4   4  21]]\n"
     ]
    }
   ],
   "source": [
    "matrix4 = confusion_matrix(y_test, y_pred4_clase)\n",
    "print(matrix4)"
   ]
  },
  {
   "cell_type": "markdown",
   "id": "c5f0b95c-a7db-4f2c-b841-b6d5c08f9dc5",
   "metadata": {},
   "source": [
    "### Red neuronal 1.4 (Con balanceo de clases)"
   ]
  },
  {
   "cell_type": "code",
   "execution_count": 89,
   "id": "6ace57d0-dd0e-418d-b08e-f20f08e5e2d5",
   "metadata": {},
   "outputs": [],
   "source": [
    "model5 = Sequential()\n",
    "\n",
    "model5.add(Dense(128, input_dim=21, activation='swish'))\n",
    "model5.add(BatchNormalization())\n",
    "model5.add(Dropout(0.2))\n",
    "model5.add(Dense(64, activation='swish'))\n",
    "model5.add(BatchNormalization())\n",
    "model5.add(Dropout(0.2))\n",
    "model5.add(Dense(32, activation='swish'))\n",
    "model5.add(BatchNormalization())\n",
    "model5.add(Dropout(0.2))\n",
    "model5.add(Dense(16, activation='swish'))\n",
    "model5.add(BatchNormalization())\n",
    "model5.add(Dropout(0.2))\n",
    "model5.add(Dense(3, activation='softmax'))"
   ]
  },
  {
   "cell_type": "code",
   "execution_count": 90,
   "id": "9e543a01-5e42-4026-ba93-2182e01ac9e4",
   "metadata": {},
   "outputs": [
    {
     "data": {
      "text/plain": [
       "{0: 0.43191056910569103, 1: 2.4285714285714284, 2: 3.663793103448276}"
      ]
     },
     "execution_count": 90,
     "metadata": {},
     "output_type": "execute_result"
    }
   ],
   "source": [
    "class_weights = class_weight.compute_class_weight('balanced', classes=np.unique(y_train), y=y_train)\n",
    "class_weights_dict = dict(enumerate(class_weights))\n",
    "class_weights_dict"
   ]
  },
  {
   "cell_type": "code",
   "execution_count": 91,
   "id": "30ea8ff5-e82b-4e86-9a64-d4332f4614c5",
   "metadata": {},
   "outputs": [
    {
     "name": "stdout",
     "output_type": "stream",
     "text": [
      "Epoch 1/50\n",
      "20/20 [==============================] - 2s 26ms/step - loss: 1.1699 - accuracy: 0.3914 - val_loss: 1.0245 - val_accuracy: 0.7506\n",
      "Epoch 2/50\n",
      "20/20 [==============================] - 0s 7ms/step - loss: 0.8538 - accuracy: 0.5184 - val_loss: 0.9760 - val_accuracy: 0.7906\n",
      "Epoch 3/50\n",
      "20/20 [==============================] - 0s 7ms/step - loss: 0.8089 - accuracy: 0.5600 - val_loss: 0.9339 - val_accuracy: 0.8165\n",
      "Epoch 4/50\n",
      "20/20 [==============================] - 0s 7ms/step - loss: 0.7247 - accuracy: 0.6047 - val_loss: 0.8783 - val_accuracy: 0.8188\n",
      "Epoch 5/50\n",
      "20/20 [==============================] - 0s 7ms/step - loss: 0.6612 - accuracy: 0.6682 - val_loss: 0.8217 - val_accuracy: 0.8118\n",
      "Epoch 6/50\n",
      "20/20 [==============================] - 0s 7ms/step - loss: 0.5697 - accuracy: 0.7051 - val_loss: 0.7701 - val_accuracy: 0.8094\n",
      "Epoch 7/50\n",
      "20/20 [==============================] - 0s 7ms/step - loss: 0.6136 - accuracy: 0.7380 - val_loss: 0.7227 - val_accuracy: 0.8094\n",
      "Epoch 8/50\n",
      "20/20 [==============================] - 0s 7ms/step - loss: 0.5846 - accuracy: 0.7506 - val_loss: 0.6838 - val_accuracy: 0.8094\n",
      "Epoch 9/50\n",
      "20/20 [==============================] - 0s 8ms/step - loss: 0.5551 - accuracy: 0.7710 - val_loss: 0.6454 - val_accuracy: 0.8094\n",
      "Epoch 10/50\n",
      "20/20 [==============================] - 0s 7ms/step - loss: 0.5252 - accuracy: 0.7843 - val_loss: 0.6019 - val_accuracy: 0.8071\n",
      "Epoch 11/50\n",
      "20/20 [==============================] - 0s 7ms/step - loss: 0.5257 - accuracy: 0.8016 - val_loss: 0.5686 - val_accuracy: 0.8094\n",
      "Epoch 12/50\n",
      "20/20 [==============================] - 0s 6ms/step - loss: 0.4847 - accuracy: 0.8227 - val_loss: 0.5449 - val_accuracy: 0.8094\n",
      "Epoch 13/50\n",
      "20/20 [==============================] - 0s 7ms/step - loss: 0.4765 - accuracy: 0.8196 - val_loss: 0.5196 - val_accuracy: 0.8165\n",
      "Epoch 14/50\n",
      "20/20 [==============================] - 0s 6ms/step - loss: 0.4730 - accuracy: 0.8314 - val_loss: 0.4981 - val_accuracy: 0.8235\n",
      "Epoch 15/50\n",
      "20/20 [==============================] - 0s 7ms/step - loss: 0.4546 - accuracy: 0.8094 - val_loss: 0.4733 - val_accuracy: 0.8212\n",
      "Epoch 16/50\n",
      "20/20 [==============================] - 0s 10ms/step - loss: 0.4746 - accuracy: 0.8259 - val_loss: 0.4511 - val_accuracy: 0.8212\n",
      "Epoch 17/50\n",
      "20/20 [==============================] - 0s 7ms/step - loss: 0.4262 - accuracy: 0.8369 - val_loss: 0.4295 - val_accuracy: 0.8259\n",
      "Epoch 18/50\n",
      "20/20 [==============================] - 0s 7ms/step - loss: 0.4139 - accuracy: 0.8573 - val_loss: 0.4099 - val_accuracy: 0.8282\n",
      "Epoch 19/50\n",
      "20/20 [==============================] - 0s 7ms/step - loss: 0.4699 - accuracy: 0.8275 - val_loss: 0.3943 - val_accuracy: 0.8376\n",
      "Epoch 20/50\n",
      "20/20 [==============================] - 0s 7ms/step - loss: 0.4265 - accuracy: 0.8486 - val_loss: 0.3834 - val_accuracy: 0.8494\n",
      "Epoch 21/50\n",
      "20/20 [==============================] - 0s 7ms/step - loss: 0.4296 - accuracy: 0.8573 - val_loss: 0.3653 - val_accuracy: 0.8565\n",
      "Epoch 22/50\n",
      "20/20 [==============================] - 0s 7ms/step - loss: 0.4336 - accuracy: 0.8596 - val_loss: 0.3530 - val_accuracy: 0.8588\n",
      "Epoch 23/50\n",
      "20/20 [==============================] - 0s 6ms/step - loss: 0.3816 - accuracy: 0.8486 - val_loss: 0.3393 - val_accuracy: 0.8659\n",
      "Epoch 24/50\n",
      "20/20 [==============================] - 0s 6ms/step - loss: 0.4120 - accuracy: 0.8502 - val_loss: 0.3325 - val_accuracy: 0.8635\n",
      "Epoch 25/50\n",
      "20/20 [==============================] - 0s 7ms/step - loss: 0.4372 - accuracy: 0.8455 - val_loss: 0.3224 - val_accuracy: 0.8565\n",
      "Epoch 26/50\n",
      "20/20 [==============================] - 0s 7ms/step - loss: 0.3899 - accuracy: 0.8588 - val_loss: 0.3054 - val_accuracy: 0.8659\n",
      "Epoch 27/50\n",
      "20/20 [==============================] - 0s 7ms/step - loss: 0.3801 - accuracy: 0.8557 - val_loss: 0.3102 - val_accuracy: 0.8635\n",
      "Epoch 28/50\n",
      "20/20 [==============================] - 0s 7ms/step - loss: 0.3650 - accuracy: 0.8651 - val_loss: 0.3188 - val_accuracy: 0.8635\n",
      "Epoch 29/50\n",
      "20/20 [==============================] - 0s 7ms/step - loss: 0.3794 - accuracy: 0.8533 - val_loss: 0.3009 - val_accuracy: 0.8706\n",
      "Epoch 30/50\n",
      "20/20 [==============================] - 0s 7ms/step - loss: 0.4135 - accuracy: 0.8596 - val_loss: 0.2748 - val_accuracy: 0.8706\n",
      "Epoch 31/50\n",
      "20/20 [==============================] - 0s 7ms/step - loss: 0.3966 - accuracy: 0.8612 - val_loss: 0.2981 - val_accuracy: 0.8800\n",
      "Epoch 32/50\n",
      "20/20 [==============================] - 0s 7ms/step - loss: 0.3515 - accuracy: 0.8588 - val_loss: 0.3050 - val_accuracy: 0.8753\n",
      "Epoch 33/50\n",
      "20/20 [==============================] - 0s 7ms/step - loss: 0.3415 - accuracy: 0.8690 - val_loss: 0.3065 - val_accuracy: 0.8776\n",
      "Epoch 34/50\n",
      "20/20 [==============================] - 0s 7ms/step - loss: 0.4010 - accuracy: 0.8494 - val_loss: 0.3107 - val_accuracy: 0.8776\n",
      "Epoch 35/50\n",
      "20/20 [==============================] - 0s 7ms/step - loss: 0.3618 - accuracy: 0.8714 - val_loss: 0.3475 - val_accuracy: 0.8729\n",
      "Epoch 36/50\n",
      "20/20 [==============================] - 0s 7ms/step - loss: 0.4022 - accuracy: 0.8549 - val_loss: 0.3843 - val_accuracy: 0.8612\n",
      "Epoch 37/50\n",
      "20/20 [==============================] - 0s 6ms/step - loss: 0.3672 - accuracy: 0.8635 - val_loss: 0.4125 - val_accuracy: 0.8635\n",
      "Epoch 38/50\n",
      "20/20 [==============================] - 0s 7ms/step - loss: 0.3288 - accuracy: 0.8737 - val_loss: 0.3535 - val_accuracy: 0.8776\n",
      "Epoch 39/50\n",
      "20/20 [==============================] - 0s 7ms/step - loss: 0.3469 - accuracy: 0.8761 - val_loss: 0.3507 - val_accuracy: 0.8753\n",
      "Epoch 40/50\n",
      "20/20 [==============================] - 0s 7ms/step - loss: 0.3231 - accuracy: 0.8737 - val_loss: 0.3149 - val_accuracy: 0.8753\n",
      "Epoch 41/50\n",
      "20/20 [==============================] - 0s 7ms/step - loss: 0.3335 - accuracy: 0.8761 - val_loss: 0.3166 - val_accuracy: 0.8847\n",
      "Epoch 42/50\n",
      "20/20 [==============================] - 0s 7ms/step - loss: 0.3333 - accuracy: 0.8761 - val_loss: 0.3371 - val_accuracy: 0.8824\n",
      "Epoch 43/50\n",
      "20/20 [==============================] - 0s 6ms/step - loss: 0.3358 - accuracy: 0.8769 - val_loss: 0.3399 - val_accuracy: 0.8682\n",
      "Epoch 44/50\n",
      "20/20 [==============================] - 0s 7ms/step - loss: 0.3471 - accuracy: 0.8722 - val_loss: 0.3871 - val_accuracy: 0.8588\n",
      "Epoch 45/50\n",
      "20/20 [==============================] - 0s 7ms/step - loss: 0.3252 - accuracy: 0.8698 - val_loss: 0.3537 - val_accuracy: 0.8659\n",
      "Epoch 46/50\n",
      "20/20 [==============================] - 0s 7ms/step - loss: 0.3025 - accuracy: 0.8878 - val_loss: 0.3263 - val_accuracy: 0.8682\n",
      "Epoch 47/50\n",
      "20/20 [==============================] - 0s 7ms/step - loss: 0.3465 - accuracy: 0.8824 - val_loss: 0.3165 - val_accuracy: 0.8729\n",
      "Epoch 48/50\n",
      "20/20 [==============================] - 0s 7ms/step - loss: 0.2999 - accuracy: 0.8839 - val_loss: 0.3494 - val_accuracy: 0.8682\n",
      "Epoch 49/50\n",
      "20/20 [==============================] - 0s 7ms/step - loss: 0.3195 - accuracy: 0.8808 - val_loss: 0.3287 - val_accuracy: 0.8824\n",
      "Epoch 50/50\n",
      "20/20 [==============================] - 0s 7ms/step - loss: 0.3082 - accuracy: 0.8863 - val_loss: 0.3918 - val_accuracy: 0.8635\n"
     ]
    }
   ],
   "source": [
    "model5.compile(optimizer='adam', loss='sparse_categorical_crossentropy', metrics=['accuracy'])\n",
    "history = model5.fit(X_train_scaled, y_train, epochs=50, batch_size=64, validation_data=(X_val_scaled, y_val), class_weight=class_weights_dict)"
   ]
  },
  {
   "cell_type": "code",
   "execution_count": 92,
   "id": "3e41225f-d15d-451b-963f-5a6a87610614",
   "metadata": {},
   "outputs": [
    {
     "name": "stdout",
     "output_type": "stream",
     "text": [
      "14/14 [==============================] - 0s 2ms/step - loss: 0.4395 - accuracy: 0.8333\n",
      "0.8333333134651184\n"
     ]
    },
    {
     "data": {
      "text/plain": [
       "0.43954357504844666"
      ]
     },
     "execution_count": 92,
     "metadata": {},
     "output_type": "execute_result"
    }
   ],
   "source": [
    "loss5, accuracy5 = model5.evaluate(X_test_scaled, y_test)\n",
    "print(accuracy5)\n",
    "loss5"
   ]
  },
  {
   "cell_type": "code",
   "execution_count": 93,
   "id": "6e437d13-c307-489e-a4fc-3a1117128eef",
   "metadata": {},
   "outputs": [
    {
     "name": "stdout",
     "output_type": "stream",
     "text": [
      "14/14 [==============================] - 0s 3ms/step\n"
     ]
    }
   ],
   "source": [
    "y_pred5 = model5.predict(X_test_scaled)\n",
    "y_pred5_clase = y_pred5.argmax(axis=1)"
   ]
  },
  {
   "cell_type": "code",
   "execution_count": 94,
   "id": "39dabe16-04f5-4b19-aa69-65bf3b74abf6",
   "metadata": {},
   "outputs": [
    {
     "name": "stdout",
     "output_type": "stream",
     "text": [
      "[[272  55   6]\n",
      " [  2  55   7]\n",
      " [  1   0  28]]\n"
     ]
    }
   ],
   "source": [
    "matrix5 = confusion_matrix(y_test, y_pred5_clase)\n",
    "print(matrix5)"
   ]
  },
  {
   "cell_type": "markdown",
   "id": "fe86cecd-c64a-4e79-9081-dfa4d1866a4e",
   "metadata": {},
   "source": [
    "### Comparación de modelos  \n",
    "El mejor modelo es el modelo realizado con la funcion swish, auqnue no hay una gran diferencia.  \n",
    "Si interesa catalogar bien, sobre todo, los casos sospechosos o patologicos, el modelo con balanceo de clases funciona mejor en esas dos categorías, aunque pierde precisión general."
   ]
  },
  {
   "cell_type": "code",
   "execution_count": 99,
   "id": "62c0e4e6-c3b0-454c-949c-bdb29aae05d0",
   "metadata": {},
   "outputs": [],
   "source": [
    "model_data = {\n",
    "    'Modelo': ['Modelo 1 (Modelo Base)', 'Modelo 2 (Escalado)', 'Modelo 3 (Dropout, Batch y Capa densa extra)', 'Modelo 4 (Función Swish)', 'Modelo 5 (Balanceo de clases)'],\n",
    "    'Accuracy entrenamiento': [0.8776, 0.9184, 0.9216, 0.9231, 0.8863],\n",
    "    'Accuracy prueba': [0.9061, 0.8967, 0.8943, 0.9107, 0.8333],\n",
    "    'Loss entrenamiento': [0.3, 0.19, 0.19, 0.21, 0.31],\n",
    "    'Loss prueba': [0.32, 0.27, 0.25, 0.22, 0.44]}\n",
    "df = pd.DataFrame(model_data)"
   ]
  },
  {
   "cell_type": "code",
   "execution_count": 101,
   "id": "f8b1f001-3f3f-4e39-9ab9-96c677acfe61",
   "metadata": {},
   "outputs": [
    {
     "data": {
      "text/html": [
       "<div>\n",
       "<style scoped>\n",
       "    .dataframe tbody tr th:only-of-type {\n",
       "        vertical-align: middle;\n",
       "    }\n",
       "\n",
       "    .dataframe tbody tr th {\n",
       "        vertical-align: top;\n",
       "    }\n",
       "\n",
       "    .dataframe thead th {\n",
       "        text-align: right;\n",
       "    }\n",
       "</style>\n",
       "<table border=\"1\" class=\"dataframe\">\n",
       "  <thead>\n",
       "    <tr style=\"text-align: right;\">\n",
       "      <th></th>\n",
       "      <th>Modelo</th>\n",
       "      <th>Accuracy entrenamiento</th>\n",
       "      <th>Accuracy prueba</th>\n",
       "      <th>Loss entrenamiento</th>\n",
       "      <th>Loss prueba</th>\n",
       "    </tr>\n",
       "  </thead>\n",
       "  <tbody>\n",
       "    <tr>\n",
       "      <th>0</th>\n",
       "      <td>Modelo 1 (Modelo Base)</td>\n",
       "      <td>0.8776</td>\n",
       "      <td>0.9061</td>\n",
       "      <td>0.30</td>\n",
       "      <td>0.32</td>\n",
       "    </tr>\n",
       "    <tr>\n",
       "      <th>1</th>\n",
       "      <td>Modelo 2 (Escalado)</td>\n",
       "      <td>0.9184</td>\n",
       "      <td>0.8967</td>\n",
       "      <td>0.19</td>\n",
       "      <td>0.27</td>\n",
       "    </tr>\n",
       "    <tr>\n",
       "      <th>2</th>\n",
       "      <td>Modelo 3 (Dropout, Batch y Capa densa extra)</td>\n",
       "      <td>0.9216</td>\n",
       "      <td>0.8943</td>\n",
       "      <td>0.19</td>\n",
       "      <td>0.25</td>\n",
       "    </tr>\n",
       "    <tr>\n",
       "      <th>3</th>\n",
       "      <td>Modelo 4 (Función Swish)</td>\n",
       "      <td>0.9231</td>\n",
       "      <td>0.9107</td>\n",
       "      <td>0.21</td>\n",
       "      <td>0.22</td>\n",
       "    </tr>\n",
       "    <tr>\n",
       "      <th>4</th>\n",
       "      <td>Modelo 5 (Balanceo de clases)</td>\n",
       "      <td>0.8863</td>\n",
       "      <td>0.8333</td>\n",
       "      <td>0.31</td>\n",
       "      <td>0.44</td>\n",
       "    </tr>\n",
       "  </tbody>\n",
       "</table>\n",
       "</div>"
      ],
      "text/plain": [
       "                                         Modelo  Accuracy entrenamiento  \\\n",
       "0                        Modelo 1 (Modelo Base)                  0.8776   \n",
       "1                           Modelo 2 (Escalado)                  0.9184   \n",
       "2  Modelo 3 (Dropout, Batch y Capa densa extra)                  0.9216   \n",
       "3                      Modelo 4 (Función Swish)                  0.9231   \n",
       "4                 Modelo 5 (Balanceo de clases)                  0.8863   \n",
       "\n",
       "   Accuracy prueba  Loss entrenamiento  Loss prueba  \n",
       "0           0.9061                0.30         0.32  \n",
       "1           0.8967                0.19         0.27  \n",
       "2           0.8943                0.19         0.25  \n",
       "3           0.9107                0.21         0.22  \n",
       "4           0.8333                0.31         0.44  "
      ]
     },
     "execution_count": 101,
     "metadata": {},
     "output_type": "execute_result"
    }
   ],
   "source": [
    "df"
   ]
  }
 ],
 "metadata": {
  "kernelspec": {
   "display_name": "Python 3 (ipykernel)",
   "language": "python",
   "name": "python3"
  },
  "language_info": {
   "codemirror_mode": {
    "name": "ipython",
    "version": 3
   },
   "file_extension": ".py",
   "mimetype": "text/x-python",
   "name": "python",
   "nbconvert_exporter": "python",
   "pygments_lexer": "ipython3",
   "version": "3.9.18"
  }
 },
 "nbformat": 4,
 "nbformat_minor": 5
}
